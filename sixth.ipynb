{
 "cells": [
  {
   "cell_type": "code",
   "execution_count": 1,
   "id": "d6409acf-a61e-4156-aad7-5c93e1bfd909",
   "metadata": {},
   "outputs": [],
   "source": [
    "import pandas as pd\n",
    "import numpy as np\n",
    "import matplotlib.pyplot as plt\n",
    "from tqdm import tqdm\n",
    "import seaborn as sns\n",
    "from pyarrow.csv import read_csv\n",
    "import xgboost\n",
    "from xgboost import XGBClassifier\n",
    "from sklearn.model_selection import train_test_split\n",
    "from sklearn.metrics import confusion_matrix, accuracy_score, precision_score, recall_score, roc_auc_score, roc_curve\n",
    "from sklearn.preprocessing import MinMaxScaler,StandardScaler\n",
    "from sklearn.ensemble import BaggingClassifier, AdaBoostClassifier\n",
    "from sklearn.tree import DecisionTreeClassifier\n",
    "from sklearn.ensemble import RandomForestClassifier\n",
    "from sklearn.decomposition import PCA\n",
    "import sklearn.svm as svm\n",
    "from sklearn.linear_model import LogisticRegression\n",
    "from imblearn.over_sampling import SMOTE\n",
    "from imblearn.under_sampling import RandomUnderSampler\n",
    "from lightgbm import LGBMClassifier"
   ]
  },
  {
   "cell_type": "code",
   "execution_count": 95,
   "id": "44345a9b-aefa-40f8-a574-96d550458fa7",
   "metadata": {},
   "outputs": [],
   "source": [
    "X = read_csv('X_model.csv').to_pandas()\n",
    "y = read_csv('Y_model.csv').to_pandas()\n",
    "X_exam = read_csv('X_exam.csv').to_pandas()\n",
    "X_exam = X_exam.fillna(0)\n",
    "X.fillna(0, inplace=True)"
   ]
  },
  {
   "cell_type": "code",
   "execution_count": 3,
   "id": "ae86ca79-a310-4c54-a715-3e1da2ef39c6",
   "metadata": {},
   "outputs": [],
   "source": [
    "personal = X.iloc[:,:3]\n",
    "dall = X.loc[:,'c20220101':'t20220826']\n",
    "dXc = X.loc[:,'c20220101':'c20220826']\n",
    "dXs = X.loc[:,'s20220101':'s20220826']\n",
    "dXt = X.loc[:,'t20220101':'t20220826']"
   ]
  },
  {
   "cell_type": "code",
   "execution_count": 98,
   "id": "359c299c-b692-44b3-ab5d-ed7399470c8e",
   "metadata": {},
   "outputs": [],
   "source": [
    "personal_ex = X_exam.iloc[:,:3]\n",
    "dall_ex = X_exam.loc[:,'c20220101':'t20220826']\n",
    "dXc_ex = X_exam.loc[:,'c20220101':'c20220826']\n",
    "dXs_ex = X_exam.loc[:,'s20220101':'s20220826']\n",
    "dXt_ex = X_exam.loc[:,'t20220101':'t20220826']"
   ]
  },
  {
   "cell_type": "code",
   "execution_count": 99,
   "id": "c0201f1a-decc-400e-bbad-d7a39b8fe6ec",
   "metadata": {},
   "outputs": [
    {
     "data": {
      "text/html": [
       "<div>\n",
       "<style scoped>\n",
       "    .dataframe tbody tr th:only-of-type {\n",
       "        vertical-align: middle;\n",
       "    }\n",
       "\n",
       "    .dataframe tbody tr th {\n",
       "        vertical-align: top;\n",
       "    }\n",
       "\n",
       "    .dataframe thead th {\n",
       "        text-align: right;\n",
       "    }\n",
       "</style>\n",
       "<table border=\"1\" class=\"dataframe\">\n",
       "  <thead>\n",
       "    <tr style=\"text-align: right;\">\n",
       "      <th></th>\n",
       "      <th>c20220101</th>\n",
       "      <th>c20220102</th>\n",
       "      <th>c20220103</th>\n",
       "      <th>c20220104</th>\n",
       "      <th>c20220105</th>\n",
       "      <th>c20220106</th>\n",
       "      <th>c20220107</th>\n",
       "      <th>c20220108</th>\n",
       "      <th>c20220109</th>\n",
       "      <th>c20220110</th>\n",
       "      <th>...</th>\n",
       "      <th>t20220817</th>\n",
       "      <th>t20220818</th>\n",
       "      <th>t20220819</th>\n",
       "      <th>t20220820</th>\n",
       "      <th>t20220821</th>\n",
       "      <th>t20220822</th>\n",
       "      <th>t20220823</th>\n",
       "      <th>t20220824</th>\n",
       "      <th>t20220825</th>\n",
       "      <th>t20220826</th>\n",
       "    </tr>\n",
       "  </thead>\n",
       "  <tbody>\n",
       "    <tr>\n",
       "      <th>0</th>\n",
       "      <td>0.0</td>\n",
       "      <td>0.0</td>\n",
       "      <td>0.0</td>\n",
       "      <td>0.0</td>\n",
       "      <td>0.0</td>\n",
       "      <td>0.0</td>\n",
       "      <td>0.0</td>\n",
       "      <td>0.0</td>\n",
       "      <td>0.0</td>\n",
       "      <td>0.0</td>\n",
       "      <td>...</td>\n",
       "      <td>0.0</td>\n",
       "      <td>0.0</td>\n",
       "      <td>0.0</td>\n",
       "      <td>0.0</td>\n",
       "      <td>0.0</td>\n",
       "      <td>0.0</td>\n",
       "      <td>0.0</td>\n",
       "      <td>0.0</td>\n",
       "      <td>0.0</td>\n",
       "      <td>0.0</td>\n",
       "    </tr>\n",
       "    <tr>\n",
       "      <th>1</th>\n",
       "      <td>0.0</td>\n",
       "      <td>0.0</td>\n",
       "      <td>0.0</td>\n",
       "      <td>0.0</td>\n",
       "      <td>0.0</td>\n",
       "      <td>0.0</td>\n",
       "      <td>0.0</td>\n",
       "      <td>0.0</td>\n",
       "      <td>0.0</td>\n",
       "      <td>0.0</td>\n",
       "      <td>...</td>\n",
       "      <td>0.0</td>\n",
       "      <td>0.0</td>\n",
       "      <td>0.0</td>\n",
       "      <td>0.0</td>\n",
       "      <td>0.0</td>\n",
       "      <td>0.0</td>\n",
       "      <td>0.0</td>\n",
       "      <td>0.0</td>\n",
       "      <td>0.0</td>\n",
       "      <td>0.0</td>\n",
       "    </tr>\n",
       "    <tr>\n",
       "      <th>2</th>\n",
       "      <td>0.0</td>\n",
       "      <td>0.0</td>\n",
       "      <td>0.0</td>\n",
       "      <td>0.0</td>\n",
       "      <td>0.0</td>\n",
       "      <td>0.0</td>\n",
       "      <td>0.0</td>\n",
       "      <td>0.0</td>\n",
       "      <td>0.0</td>\n",
       "      <td>0.0</td>\n",
       "      <td>...</td>\n",
       "      <td>0.0</td>\n",
       "      <td>0.0</td>\n",
       "      <td>0.0</td>\n",
       "      <td>0.0</td>\n",
       "      <td>0.0</td>\n",
       "      <td>0.0</td>\n",
       "      <td>0.0</td>\n",
       "      <td>0.0</td>\n",
       "      <td>0.0</td>\n",
       "      <td>0.0</td>\n",
       "    </tr>\n",
       "    <tr>\n",
       "      <th>3</th>\n",
       "      <td>0.0</td>\n",
       "      <td>0.0</td>\n",
       "      <td>0.0</td>\n",
       "      <td>0.0</td>\n",
       "      <td>0.0</td>\n",
       "      <td>0.0</td>\n",
       "      <td>0.0</td>\n",
       "      <td>0.0</td>\n",
       "      <td>0.0</td>\n",
       "      <td>0.0</td>\n",
       "      <td>...</td>\n",
       "      <td>0.0</td>\n",
       "      <td>0.0</td>\n",
       "      <td>0.0</td>\n",
       "      <td>0.0</td>\n",
       "      <td>0.0</td>\n",
       "      <td>0.0</td>\n",
       "      <td>0.0</td>\n",
       "      <td>0.0</td>\n",
       "      <td>0.0</td>\n",
       "      <td>0.0</td>\n",
       "    </tr>\n",
       "    <tr>\n",
       "      <th>4</th>\n",
       "      <td>0.0</td>\n",
       "      <td>0.0</td>\n",
       "      <td>0.0</td>\n",
       "      <td>0.0</td>\n",
       "      <td>0.0</td>\n",
       "      <td>0.0</td>\n",
       "      <td>0.0</td>\n",
       "      <td>0.0</td>\n",
       "      <td>0.0</td>\n",
       "      <td>0.0</td>\n",
       "      <td>...</td>\n",
       "      <td>0.0</td>\n",
       "      <td>0.0</td>\n",
       "      <td>0.0</td>\n",
       "      <td>0.0</td>\n",
       "      <td>0.0</td>\n",
       "      <td>0.0</td>\n",
       "      <td>0.0</td>\n",
       "      <td>0.0</td>\n",
       "      <td>0.0</td>\n",
       "      <td>0.0</td>\n",
       "    </tr>\n",
       "    <tr>\n",
       "      <th>...</th>\n",
       "      <td>...</td>\n",
       "      <td>...</td>\n",
       "      <td>...</td>\n",
       "      <td>...</td>\n",
       "      <td>...</td>\n",
       "      <td>...</td>\n",
       "      <td>...</td>\n",
       "      <td>...</td>\n",
       "      <td>...</td>\n",
       "      <td>...</td>\n",
       "      <td>...</td>\n",
       "      <td>...</td>\n",
       "      <td>...</td>\n",
       "      <td>...</td>\n",
       "      <td>...</td>\n",
       "      <td>...</td>\n",
       "      <td>...</td>\n",
       "      <td>...</td>\n",
       "      <td>...</td>\n",
       "      <td>...</td>\n",
       "      <td>...</td>\n",
       "    </tr>\n",
       "    <tr>\n",
       "      <th>199995</th>\n",
       "      <td>0.0</td>\n",
       "      <td>0.0</td>\n",
       "      <td>0.0</td>\n",
       "      <td>0.0</td>\n",
       "      <td>0.0</td>\n",
       "      <td>0.0</td>\n",
       "      <td>0.0</td>\n",
       "      <td>0.0</td>\n",
       "      <td>0.0</td>\n",
       "      <td>0.0</td>\n",
       "      <td>...</td>\n",
       "      <td>0.0</td>\n",
       "      <td>0.0</td>\n",
       "      <td>0.0</td>\n",
       "      <td>0.0</td>\n",
       "      <td>0.0</td>\n",
       "      <td>0.0</td>\n",
       "      <td>0.0</td>\n",
       "      <td>0.0</td>\n",
       "      <td>0.0</td>\n",
       "      <td>0.0</td>\n",
       "    </tr>\n",
       "    <tr>\n",
       "      <th>199996</th>\n",
       "      <td>0.0</td>\n",
       "      <td>0.0</td>\n",
       "      <td>0.0</td>\n",
       "      <td>0.0</td>\n",
       "      <td>0.0</td>\n",
       "      <td>0.0</td>\n",
       "      <td>0.0</td>\n",
       "      <td>0.0</td>\n",
       "      <td>0.0</td>\n",
       "      <td>2.0</td>\n",
       "      <td>...</td>\n",
       "      <td>0.0</td>\n",
       "      <td>0.0</td>\n",
       "      <td>0.0</td>\n",
       "      <td>0.0</td>\n",
       "      <td>2.0</td>\n",
       "      <td>0.0</td>\n",
       "      <td>0.0</td>\n",
       "      <td>0.0</td>\n",
       "      <td>0.0</td>\n",
       "      <td>1.0</td>\n",
       "    </tr>\n",
       "    <tr>\n",
       "      <th>199997</th>\n",
       "      <td>0.0</td>\n",
       "      <td>2.0</td>\n",
       "      <td>0.0</td>\n",
       "      <td>1.0</td>\n",
       "      <td>0.0</td>\n",
       "      <td>1.0</td>\n",
       "      <td>0.0</td>\n",
       "      <td>0.0</td>\n",
       "      <td>0.0</td>\n",
       "      <td>0.0</td>\n",
       "      <td>...</td>\n",
       "      <td>0.0</td>\n",
       "      <td>0.0</td>\n",
       "      <td>0.0</td>\n",
       "      <td>0.0</td>\n",
       "      <td>0.0</td>\n",
       "      <td>0.0</td>\n",
       "      <td>0.0</td>\n",
       "      <td>0.0</td>\n",
       "      <td>0.0</td>\n",
       "      <td>0.0</td>\n",
       "    </tr>\n",
       "    <tr>\n",
       "      <th>199998</th>\n",
       "      <td>0.0</td>\n",
       "      <td>0.0</td>\n",
       "      <td>0.0</td>\n",
       "      <td>0.0</td>\n",
       "      <td>1.0</td>\n",
       "      <td>0.0</td>\n",
       "      <td>0.0</td>\n",
       "      <td>2.0</td>\n",
       "      <td>1.0</td>\n",
       "      <td>1.0</td>\n",
       "      <td>...</td>\n",
       "      <td>0.0</td>\n",
       "      <td>0.0</td>\n",
       "      <td>0.0</td>\n",
       "      <td>0.0</td>\n",
       "      <td>0.0</td>\n",
       "      <td>0.0</td>\n",
       "      <td>0.0</td>\n",
       "      <td>0.0</td>\n",
       "      <td>0.0</td>\n",
       "      <td>0.0</td>\n",
       "    </tr>\n",
       "    <tr>\n",
       "      <th>199999</th>\n",
       "      <td>0.0</td>\n",
       "      <td>0.0</td>\n",
       "      <td>0.0</td>\n",
       "      <td>0.0</td>\n",
       "      <td>0.0</td>\n",
       "      <td>0.0</td>\n",
       "      <td>0.0</td>\n",
       "      <td>0.0</td>\n",
       "      <td>0.0</td>\n",
       "      <td>0.0</td>\n",
       "      <td>...</td>\n",
       "      <td>0.0</td>\n",
       "      <td>0.0</td>\n",
       "      <td>0.0</td>\n",
       "      <td>0.0</td>\n",
       "      <td>0.0</td>\n",
       "      <td>0.0</td>\n",
       "      <td>0.0</td>\n",
       "      <td>0.0</td>\n",
       "      <td>0.0</td>\n",
       "      <td>0.0</td>\n",
       "    </tr>\n",
       "  </tbody>\n",
       "</table>\n",
       "<p>200000 rows × 714 columns</p>\n",
       "</div>"
      ],
      "text/plain": [
       "        c20220101  c20220102  c20220103  c20220104  c20220105  c20220106  \\\n",
       "0             0.0        0.0        0.0        0.0        0.0        0.0   \n",
       "1             0.0        0.0        0.0        0.0        0.0        0.0   \n",
       "2             0.0        0.0        0.0        0.0        0.0        0.0   \n",
       "3             0.0        0.0        0.0        0.0        0.0        0.0   \n",
       "4             0.0        0.0        0.0        0.0        0.0        0.0   \n",
       "...           ...        ...        ...        ...        ...        ...   \n",
       "199995        0.0        0.0        0.0        0.0        0.0        0.0   \n",
       "199996        0.0        0.0        0.0        0.0        0.0        0.0   \n",
       "199997        0.0        2.0        0.0        1.0        0.0        1.0   \n",
       "199998        0.0        0.0        0.0        0.0        1.0        0.0   \n",
       "199999        0.0        0.0        0.0        0.0        0.0        0.0   \n",
       "\n",
       "        c20220107  c20220108  c20220109  c20220110  ...  t20220817  t20220818  \\\n",
       "0             0.0        0.0        0.0        0.0  ...        0.0        0.0   \n",
       "1             0.0        0.0        0.0        0.0  ...        0.0        0.0   \n",
       "2             0.0        0.0        0.0        0.0  ...        0.0        0.0   \n",
       "3             0.0        0.0        0.0        0.0  ...        0.0        0.0   \n",
       "4             0.0        0.0        0.0        0.0  ...        0.0        0.0   \n",
       "...           ...        ...        ...        ...  ...        ...        ...   \n",
       "199995        0.0        0.0        0.0        0.0  ...        0.0        0.0   \n",
       "199996        0.0        0.0        0.0        2.0  ...        0.0        0.0   \n",
       "199997        0.0        0.0        0.0        0.0  ...        0.0        0.0   \n",
       "199998        0.0        2.0        1.0        1.0  ...        0.0        0.0   \n",
       "199999        0.0        0.0        0.0        0.0  ...        0.0        0.0   \n",
       "\n",
       "        t20220819  t20220820  t20220821  t20220822  t20220823  t20220824  \\\n",
       "0             0.0        0.0        0.0        0.0        0.0        0.0   \n",
       "1             0.0        0.0        0.0        0.0        0.0        0.0   \n",
       "2             0.0        0.0        0.0        0.0        0.0        0.0   \n",
       "3             0.0        0.0        0.0        0.0        0.0        0.0   \n",
       "4             0.0        0.0        0.0        0.0        0.0        0.0   \n",
       "...           ...        ...        ...        ...        ...        ...   \n",
       "199995        0.0        0.0        0.0        0.0        0.0        0.0   \n",
       "199996        0.0        0.0        2.0        0.0        0.0        0.0   \n",
       "199997        0.0        0.0        0.0        0.0        0.0        0.0   \n",
       "199998        0.0        0.0        0.0        0.0        0.0        0.0   \n",
       "199999        0.0        0.0        0.0        0.0        0.0        0.0   \n",
       "\n",
       "        t20220825  t20220826  \n",
       "0             0.0        0.0  \n",
       "1             0.0        0.0  \n",
       "2             0.0        0.0  \n",
       "3             0.0        0.0  \n",
       "4             0.0        0.0  \n",
       "...           ...        ...  \n",
       "199995        0.0        0.0  \n",
       "199996        0.0        1.0  \n",
       "199997        0.0        0.0  \n",
       "199998        0.0        0.0  \n",
       "199999        0.0        0.0  \n",
       "\n",
       "[200000 rows x 714 columns]"
      ]
     },
     "execution_count": 99,
     "metadata": {},
     "output_type": "execute_result"
    }
   ],
   "source": [
    "dall_ex"
   ]
  },
  {
   "cell_type": "code",
   "execution_count": 7,
   "id": "114b6c16-9002-4b5f-8f21-1ef60cce02f2",
   "metadata": {},
   "outputs": [
    {
     "name": "stderr",
     "output_type": "stream",
     "text": [
      "100%|███████████████████████████████████████████████████████████████████████| 800000/800000 [00:55<00:00, 14403.38it/s]\n"
     ]
    }
   ],
   "source": [
    "X_np = [dall.iloc[i,:] for i in tqdm(range(len(dall)))]"
   ]
  },
  {
   "cell_type": "code",
   "execution_count": 100,
   "id": "114da723-4b19-4a45-88b5-0995a40b953a",
   "metadata": {},
   "outputs": [
    {
     "name": "stderr",
     "output_type": "stream",
     "text": [
      "100%|███████████████████████████████████████████████████████████████████████| 200000/200000 [00:18<00:00, 10632.48it/s]\n"
     ]
    }
   ],
   "source": [
    "X_np_ex = [dall_ex.iloc[i,:] for i in tqdm(range(len(dall_ex)))]"
   ]
  },
  {
   "cell_type": "code",
   "execution_count": 8,
   "id": "6fbffa13-d404-4c0a-ba0c-73bdbc3801b6",
   "metadata": {},
   "outputs": [
    {
     "name": "stderr",
     "output_type": "stream",
     "text": [
      "100%|███████████████████████████████████████████████████████████████████████| 800000/800000 [00:09<00:00, 81504.20it/s]\n"
     ]
    }
   ],
   "source": [
    "for i in tqdm(range(len(X_np))):\n",
    "    X_np[i] = np.array(X_np[i], dtype=np.int32).reshape(3,34,7)"
   ]
  },
  {
   "cell_type": "code",
   "execution_count": 101,
   "id": "be6eedf3-3292-42b4-81e4-609baf881911",
   "metadata": {},
   "outputs": [
    {
     "name": "stderr",
     "output_type": "stream",
     "text": [
      "100%|███████████████████████████████████████████████████████████████████████| 200000/200000 [00:02<00:00, 77759.29it/s]\n"
     ]
    }
   ],
   "source": [
    "for i in tqdm(range(len(X_np_ex))):\n",
    "    X_np_ex[i] = np.array(X_np_ex[i], dtype=np.int32).reshape(3,34,7)"
   ]
  },
  {
   "cell_type": "code",
   "execution_count": 102,
   "id": "2b2c2aaf-9333-4e6b-b1fa-43f1be4d5813",
   "metadata": {},
   "outputs": [],
   "source": [
    "zero0 = [0]*200000"
   ]
  },
  {
   "cell_type": "code",
   "execution_count": 103,
   "id": "0221fe04-6804-43ae-b25e-5a7bfa66c222",
   "metadata": {},
   "outputs": [],
   "source": [
    "personal_ex['zero0'] = zero0\n",
    "personal_ex['zero1'] = zero0\n",
    "personal_ex['zero2'] = zero0\n",
    "personal_ex['zero3'] = zero0"
   ]
  },
  {
   "cell_type": "code",
   "execution_count": 104,
   "id": "72f7cf35-3d20-4948-8613-263bc5fdfbb9",
   "metadata": {},
   "outputs": [],
   "source": [
    "personal_ex = personal_ex[['gender', 'zero0', 'zero1', 'age_code', 'zero2', 'zero3', 'region_code']]"
   ]
  },
  {
   "cell_type": "code",
   "execution_count": 105,
   "id": "cbb41416-463c-4713-9948-385f2375ecf1",
   "metadata": {},
   "outputs": [
    {
     "data": {
      "text/html": [
       "<div>\n",
       "<style scoped>\n",
       "    .dataframe tbody tr th:only-of-type {\n",
       "        vertical-align: middle;\n",
       "    }\n",
       "\n",
       "    .dataframe tbody tr th {\n",
       "        vertical-align: top;\n",
       "    }\n",
       "\n",
       "    .dataframe thead th {\n",
       "        text-align: right;\n",
       "    }\n",
       "</style>\n",
       "<table border=\"1\" class=\"dataframe\">\n",
       "  <thead>\n",
       "    <tr style=\"text-align: right;\">\n",
       "      <th></th>\n",
       "      <th>gender</th>\n",
       "      <th>zero0</th>\n",
       "      <th>zero1</th>\n",
       "      <th>age_code</th>\n",
       "      <th>zero2</th>\n",
       "      <th>zero3</th>\n",
       "      <th>region_code</th>\n",
       "    </tr>\n",
       "  </thead>\n",
       "  <tbody>\n",
       "    <tr>\n",
       "      <th>0</th>\n",
       "      <td>2</td>\n",
       "      <td>0</td>\n",
       "      <td>0</td>\n",
       "      <td>4</td>\n",
       "      <td>0</td>\n",
       "      <td>0</td>\n",
       "      <td>4</td>\n",
       "    </tr>\n",
       "    <tr>\n",
       "      <th>1</th>\n",
       "      <td>2</td>\n",
       "      <td>0</td>\n",
       "      <td>0</td>\n",
       "      <td>10</td>\n",
       "      <td>0</td>\n",
       "      <td>0</td>\n",
       "      <td>15</td>\n",
       "    </tr>\n",
       "    <tr>\n",
       "      <th>2</th>\n",
       "      <td>2</td>\n",
       "      <td>0</td>\n",
       "      <td>0</td>\n",
       "      <td>4</td>\n",
       "      <td>0</td>\n",
       "      <td>0</td>\n",
       "      <td>2</td>\n",
       "    </tr>\n",
       "    <tr>\n",
       "      <th>3</th>\n",
       "      <td>1</td>\n",
       "      <td>0</td>\n",
       "      <td>0</td>\n",
       "      <td>8</td>\n",
       "      <td>0</td>\n",
       "      <td>0</td>\n",
       "      <td>1</td>\n",
       "    </tr>\n",
       "    <tr>\n",
       "      <th>4</th>\n",
       "      <td>2</td>\n",
       "      <td>0</td>\n",
       "      <td>0</td>\n",
       "      <td>8</td>\n",
       "      <td>0</td>\n",
       "      <td>0</td>\n",
       "      <td>2</td>\n",
       "    </tr>\n",
       "    <tr>\n",
       "      <th>...</th>\n",
       "      <td>...</td>\n",
       "      <td>...</td>\n",
       "      <td>...</td>\n",
       "      <td>...</td>\n",
       "      <td>...</td>\n",
       "      <td>...</td>\n",
       "      <td>...</td>\n",
       "    </tr>\n",
       "    <tr>\n",
       "      <th>199995</th>\n",
       "      <td>2</td>\n",
       "      <td>0</td>\n",
       "      <td>0</td>\n",
       "      <td>6</td>\n",
       "      <td>0</td>\n",
       "      <td>0</td>\n",
       "      <td>7</td>\n",
       "    </tr>\n",
       "    <tr>\n",
       "      <th>199996</th>\n",
       "      <td>1</td>\n",
       "      <td>0</td>\n",
       "      <td>0</td>\n",
       "      <td>10</td>\n",
       "      <td>0</td>\n",
       "      <td>0</td>\n",
       "      <td>6</td>\n",
       "    </tr>\n",
       "    <tr>\n",
       "      <th>199997</th>\n",
       "      <td>1</td>\n",
       "      <td>0</td>\n",
       "      <td>0</td>\n",
       "      <td>11</td>\n",
       "      <td>0</td>\n",
       "      <td>0</td>\n",
       "      <td>1</td>\n",
       "    </tr>\n",
       "    <tr>\n",
       "      <th>199998</th>\n",
       "      <td>1</td>\n",
       "      <td>0</td>\n",
       "      <td>0</td>\n",
       "      <td>4</td>\n",
       "      <td>0</td>\n",
       "      <td>0</td>\n",
       "      <td>16</td>\n",
       "    </tr>\n",
       "    <tr>\n",
       "      <th>199999</th>\n",
       "      <td>2</td>\n",
       "      <td>0</td>\n",
       "      <td>0</td>\n",
       "      <td>3</td>\n",
       "      <td>0</td>\n",
       "      <td>0</td>\n",
       "      <td>1</td>\n",
       "    </tr>\n",
       "  </tbody>\n",
       "</table>\n",
       "<p>200000 rows × 7 columns</p>\n",
       "</div>"
      ],
      "text/plain": [
       "        gender  zero0  zero1  age_code  zero2  zero3  region_code\n",
       "0            2      0      0         4      0      0            4\n",
       "1            2      0      0        10      0      0           15\n",
       "2            2      0      0         4      0      0            2\n",
       "3            1      0      0         8      0      0            1\n",
       "4            2      0      0         8      0      0            2\n",
       "...        ...    ...    ...       ...    ...    ...          ...\n",
       "199995       2      0      0         6      0      0            7\n",
       "199996       1      0      0        10      0      0            6\n",
       "199997       1      0      0        11      0      0            1\n",
       "199998       1      0      0         4      0      0           16\n",
       "199999       2      0      0         3      0      0            1\n",
       "\n",
       "[200000 rows x 7 columns]"
      ]
     },
     "execution_count": 105,
     "metadata": {},
     "output_type": "execute_result"
    }
   ],
   "source": [
    "personal_ex"
   ]
  },
  {
   "cell_type": "code",
   "execution_count": 106,
   "id": "10a8901e-a547-46e6-afb1-7838c70a010a",
   "metadata": {},
   "outputs": [
    {
     "data": {
      "text/plain": [
       "tensor([[[2, 0, 0, 4, 0, 0, 4]],\n",
       "\n",
       "        [[2, 0, 0, 4, 0, 0, 4]],\n",
       "\n",
       "        [[2, 0, 0, 4, 0, 0, 4]]], dtype=torch.int32)"
      ]
     },
     "execution_count": 106,
     "metadata": {},
     "output_type": "execute_result"
    }
   ],
   "source": [
    "torch.tensor(np.array(list(personal_ex.iloc[0,:])*3).reshape(3,1,7))"
   ]
  },
  {
   "cell_type": "code",
   "execution_count": 107,
   "id": "4a332c5b-20b6-42c3-aeeb-09825d87c48e",
   "metadata": {},
   "outputs": [],
   "source": [
    "X_np_ex = torch.Tensor(X_np_ex)"
   ]
  },
  {
   "cell_type": "code",
   "execution_count": 17,
   "id": "d693a15f-1784-4ef9-a177-6d3f305cc92e",
   "metadata": {},
   "outputs": [
    {
     "name": "stderr",
     "output_type": "stream",
     "text": [
      "100%|███████████████████████████████████████████████████████████████████████| 800000/800000 [01:07<00:00, 11852.22it/s]\n"
     ]
    }
   ],
   "source": [
    "X_per = [np.array(list(personal.iloc[i,:])*3).reshape(3,1,7) for i in tqdm(range(len(X_np)))]"
   ]
  },
  {
   "cell_type": "code",
   "execution_count": 108,
   "id": "efbf6c06-57e8-4eb3-97ed-fd088f7dbccd",
   "metadata": {},
   "outputs": [
    {
     "name": "stderr",
     "output_type": "stream",
     "text": [
      "100%|███████████████████████████████████████████████████████████████████████| 200000/200000 [00:19<00:00, 10000.26it/s]\n"
     ]
    }
   ],
   "source": [
    "X_per_ex = [np.array(list(personal_ex.iloc[i,:])*3).reshape(3,1,7) for i in tqdm(range(len(X_np_ex)))]"
   ]
  },
  {
   "cell_type": "code",
   "execution_count": 18,
   "id": "f693d4bd-db96-476b-b2b6-5cb1ba893601",
   "metadata": {},
   "outputs": [],
   "source": [
    "X_per = torch.tensor(X_per)"
   ]
  },
  {
   "cell_type": "code",
   "execution_count": 109,
   "id": "c449c5e1-cc75-4d8d-8a9c-1fc76d3fe033",
   "metadata": {},
   "outputs": [],
   "source": [
    "X_per_ex = torch.tensor(X_per_ex)"
   ]
  },
  {
   "cell_type": "code",
   "execution_count": 110,
   "id": "523b499d-ae16-4bd3-ad0d-60b1407299d3",
   "metadata": {},
   "outputs": [
    {
     "data": {
      "text/plain": [
       "torch.Size([200000, 3, 1, 7])"
      ]
     },
     "execution_count": 110,
     "metadata": {},
     "output_type": "execute_result"
    }
   ],
   "source": [
    "X_per_ex.shape"
   ]
  },
  {
   "cell_type": "code",
   "execution_count": 20,
   "id": "77ce56b7-4ccd-40a1-86ab-17c2a1f87a54",
   "metadata": {},
   "outputs": [
    {
     "data": {
      "text/plain": [
       "torch.Size([800000, 3, 34, 7])"
      ]
     },
     "execution_count": 20,
     "metadata": {},
     "output_type": "execute_result"
    }
   ],
   "source": [
    "X_np.shape"
   ]
  },
  {
   "cell_type": "code",
   "execution_count": 111,
   "id": "045072d0-5f0a-4a89-af46-e0d517ba407c",
   "metadata": {},
   "outputs": [],
   "source": [
    "X_np_ex = torch.cat([X_per_ex, X_np_ex], axis=2)"
   ]
  },
  {
   "cell_type": "code",
   "execution_count": 22,
   "id": "01f82634-d62c-4e03-8596-78923f8c71ec",
   "metadata": {},
   "outputs": [],
   "source": [
    "# Import libraries to use for Deep Learning \n",
    "\n",
    "import numpy as np\n",
    "import torch\n",
    "import torch.nn as nn\n",
    "import torch.nn.functional as F\n",
    "from torch.utils.data import Dataset, DataLoader, random_split, Subset\n",
    "from torchvision import datasets, transforms\n",
    "from torch.utils.data import TensorDataset\n",
    "from torchvision.io import read_image\n",
    "from torchsummary import summary\n",
    "import pandas as pd\n",
    "from PIL import Image\n",
    "import os \n",
    "\n",
    "import cv2 as cv2"
   ]
  },
  {
   "cell_type": "code",
   "execution_count": 115,
   "id": "f41db142-6bf0-4079-b497-5ea01d592ffd",
   "metadata": {},
   "outputs": [],
   "source": [
    "X_train, X_val, y_train, y_val = train_test_split(X_np, y, \n",
    "                                                    stratify = y, shuffle = True, \n",
    "                                                    random_state = 42, test_size=0.2) "
   ]
  },
  {
   "cell_type": "code",
   "execution_count": 116,
   "id": "3b59af53-1915-49fb-bd72-6633d3bc2b1c",
   "metadata": {},
   "outputs": [],
   "source": [
    "\n",
    "train_dataset = TensorDataset(torch.Tensor(np.array(X_train)), torch.Tensor(np.array(y_train))) #, torch.Tensor(np.array(y_train))\n",
    "valid_dataset = TensorDataset(torch.Tensor(np.array(X_val)), torch.Tensor(np.array(y_val))) #, torch.Tensor(np.array(y_val))\n",
    "test_dataset = TensorDataset(torch.Tensor(np.array(X_np_ex))) #, torch.Tensor(np.array(y_test))\n",
    "\n",
    "### YOU CAN USE ANY TRANSFORMS YOU WANT. MAKE IT RUNNABLE!\n",
    "\n",
    "train_loader = DataLoader(train_dataset, batch_size=1000, shuffle=True)\n",
    "valid_loader = DataLoader(valid_dataset, batch_size=1000, shuffle=False)\n",
    "test_loader = DataLoader(test_dataset, batch_size=1000, shuffle=False)\n",
    "\n",
    "### END OF THE CODE."
   ]
  },
  {
   "cell_type": "code",
   "execution_count": 117,
   "id": "7820d68d-196f-43df-9a12-5d54794b9cc6",
   "metadata": {},
   "outputs": [],
   "source": [
    "### PLEASE WRITE YOUR CODE BELOW.\n",
    "\n",
    "class SimpleCNN(nn.Module):\n",
    "    def __init__(self, in_channels, num_classes):\n",
    "        super().__init__()\n",
    "        self.conv1 = nn.Conv2d(in_channels=in_channels, out_channels=16, kernel_size=3,\n",
    "                               stride=1, padding=1)\n",
    "        self.conv2 = nn.Conv2d(in_channels=16, out_channels=32, kernel_size=3,\n",
    "                               stride=1, padding=1)\n",
    "        self.conv3 = nn.Conv2d(in_channels=32, out_channels=64, kernel_size=2,\n",
    "                               stride=1, padding=1)\n",
    "        self.conv4 = nn.Conv2d(in_channels=64, out_channels=128, kernel_size=2,\n",
    "                               stride=1, padding=1)\n",
    "        \n",
    "        self.avg_pool = nn.AvgPool2d(kernel_size=3, stride=2)\n",
    "\n",
    "        self.bn1 = nn.BatchNorm2d(num_features=16)\n",
    "        self.bn2 = nn.BatchNorm2d(num_features=32)\n",
    "        self.bn3 = nn.BatchNorm2d(num_features=64)\n",
    "        self.bn4 = nn.BatchNorm2d(num_features=128)\n",
    "\n",
    "        self.dropout = nn.Dropout(p=0.5)\n",
    "\n",
    "        self.activation = nn.LeakyReLU()\n",
    "\n",
    "        self.classifier = nn.Linear(in_features=16*4*4, out_features=num_classes)\n",
    "        self.sigmoid = torch.sigmoid\n",
    "\n",
    "    def forward(self, x):\n",
    "        #print(f'Original input dimension in a format of [B, C, H, W] is {list(x.size())}')\n",
    "        out = self.conv1(x)\n",
    "        out = self.bn1(out)\n",
    "        out = self.activation(out)\n",
    "        out = self.dropout(out)\n",
    "        out = self.avg_pool(out)\n",
    "        # Or simply, \n",
    "        # out = self.avg_pool(self.dropout(self.activation(self.bn1(self.conv1(x)))))\n",
    "\n",
    "        #print(f'After first  [Conv -> BatchNorm -> ReLU -> Dropout -> MaxPool] the dimension of tensor is {list(out.size())}')\n",
    "        out = self.conv2(out)\n",
    "        out = self.bn2(out)\n",
    "        out = self.activation(out)\n",
    "        out = self.dropout(out)\n",
    "        out = self.avg_pool(out)\n",
    "        # Or simply,\n",
    "        # out = self.avg_pool(self.dropout(self.activation(self.bn2(self.conv2(out)))))\n",
    "\n",
    "        #print(f'After second [Conv -> BatchNorm -> ReLU -> Dropout -> MaxPool] the dimension of tensor is {list(out.size())}')\n",
    "        #out = self.conv3(out)\n",
    "        #out = self.bn3(out)\n",
    "        #out = self.activation(out)\n",
    "        #out = self.dropout(out)\n",
    "        #out = self.avg_pool(out)\n",
    "        #print(f'After thrid [Conv -> BatchNorm -> ReLU -> Dropout -> MaxPool] the dimension of tensor is {list(out.size())}')\n",
    "\n",
    "        #out = self.conv4(out)\n",
    "        #out = self.bn4(out)\n",
    "        #out = self.activation(out)\n",
    "        #out = self.dropout(out)\n",
    "        #out = self.avg_pool(out)\n",
    "\n",
    "        # Or simply,\n",
    "        # out = self.avg_pool(self.dropout(self.activation(self.bn3(self.conv3(out)))))\n",
    "\n",
    "        # Need to flatten the output tensor with the shape of [B, C, H, W] -> [B, N]\n",
    "        # in order to fed into linear classifier\n",
    "        #print(f'After fourth  [Conv -> BatchNorm -> ReLU -> Dropout -> MaxPool] the dimension of tensor is {list(out.size())}')\n",
    "\n",
    "        out = out.reshape(out.size(0), -1)\n",
    "        #print(out.size())\n",
    "        \n",
    "        #print(f'Linear layers requires inputs to be [B, N] dimensions')\n",
    "        out = self.classifier(out)\n",
    "        output_score = self.sigmoid(out) # (-1)\n",
    "\n",
    "        return out, output_score\n",
    "### END OF THE CODE."
   ]
  },
  {
   "cell_type": "code",
   "execution_count": 118,
   "id": "8a0f5958-3576-4c68-ac44-39e25820442a",
   "metadata": {},
   "outputs": [
    {
     "name": "stdout",
     "output_type": "stream",
     "text": [
      "----------------------------------------------------------------\n",
      "        Layer (type)               Output Shape         Param #\n",
      "================================================================\n",
      "            Conv2d-1            [-1, 16, 35, 7]             448\n",
      "       BatchNorm2d-2            [-1, 16, 35, 7]              32\n",
      "         LeakyReLU-3            [-1, 16, 35, 7]               0\n",
      "           Dropout-4            [-1, 16, 35, 7]               0\n",
      "         AvgPool2d-5            [-1, 16, 17, 3]               0\n",
      "            Conv2d-6            [-1, 32, 17, 3]           4,640\n",
      "       BatchNorm2d-7            [-1, 32, 17, 3]              64\n",
      "         LeakyReLU-8            [-1, 32, 17, 3]               0\n",
      "           Dropout-9            [-1, 32, 17, 3]               0\n",
      "        AvgPool2d-10             [-1, 32, 8, 1]               0\n",
      "           Linear-11                    [-1, 2]             514\n",
      "================================================================\n",
      "Total params: 5,698\n",
      "Trainable params: 5,698\n",
      "Non-trainable params: 0\n",
      "----------------------------------------------------------------\n",
      "Input size (MB): 0.00\n",
      "Forward/backward pass size (MB): 0.18\n",
      "Params size (MB): 0.02\n",
      "Estimated Total Size (MB): 0.20\n",
      "----------------------------------------------------------------\n"
     ]
    }
   ],
   "source": [
    "model = SimpleCNN(in_channels=3, num_classes=2).cuda()\n",
    "summary(model, (3, 35, 7), device='cuda')"
   ]
  },
  {
   "cell_type": "code",
   "execution_count": 119,
   "id": "bf449820-3a8e-4a44-9f6a-d2830c53a65d",
   "metadata": {},
   "outputs": [],
   "source": [
    "### PLEASE FILL OUT THE HYPERPARAMETERS\n",
    "### NOTE THAT YOU SHOULD SET DIFFERENT PARAMETERS FOR DIFFERENT OPTIMIZERS.\n",
    "\n",
    "lr = 0.001\n",
    "epochs = 70\n",
    "\n",
    "## OPTIMIZER HYPERPARAMETERS - PLEASE ADD/REMOVE DEPENDS ON OPTIMIZER.\n",
    "betas = (0.9, 0.999)\n",
    "momentum = 0.9\n",
    "\n",
    "## WHEN USING GPU, PUT `.cuda()` on model and criterion.\n",
    "\n",
    "model = SimpleCNN(in_channels=3, num_classes=2).cuda()\n",
    "optimizer = torch.optim.Adam(model.parameters(), lr=lr, betas=betas)\n",
    "criterion = nn.CrossEntropyLoss().cuda()"
   ]
  },
  {
   "cell_type": "code",
   "execution_count": 120,
   "id": "10d44f5a-15e1-428b-a281-20faf20f1870",
   "metadata": {},
   "outputs": [],
   "source": [
    "def train(model, optimizer, criterion, data_loader, epoch):\n",
    "    model.train()\n",
    "    total_loss = 0.0\n",
    "    for idx, batch in enumerate(data_loader):\n",
    "        img, target = batch[0].cuda(), batch[1].cuda()\n",
    "        #img = img.float().permute(0,3,1,2)\n",
    "\n",
    "        ### PLEASE WRITE YOUR CODE BELOW.\n",
    "        # Initialize the optimizer\n",
    "        optimizer.zero_grad()\n",
    "\n",
    "        # Make a prediction\n",
    "        output, y_pred_proba = model(img)\n",
    "\n",
    "        # Calculate loss with prediction and target\n",
    "        target = target.type(torch.LongTensor)\n",
    "        loss = criterion(output, target.squeeze(dim=-1).cuda())\n",
    "\n",
    "        # Compute the gradient\n",
    "        loss.backward()\n",
    "\n",
    "        # Update Parameters\n",
    "        optimizer.step()\n",
    "\n",
    "\n",
    "        ### END OF THE CODE.\n",
    "\n",
    "        total_loss += loss.item() \n",
    "\n",
    "        if idx % 100 == 0:\n",
    "            print('Train Epoch: {} [{}/{} ({:.0f}%)]\\tLoss: {:.6f}'.format(\n",
    "                epoch + 1, idx * img.size(0), len(data_loader.dataset),\n",
    "                100. * idx * img.size(0) / len(data_loader.dataset), \n",
    "                loss.data))\n",
    "\n",
    "    return total_loss / len(data_loader)\n",
    "\n",
    "def validate(model, criterion, data_loader):\n",
    "    model.eval()\n",
    "    val_loss = 0.0\n",
    "    val_acc = 0.0\n",
    "    val_prepro = []\n",
    "    val_targetvalues = []\n",
    "\n",
    "    with torch.no_grad():\n",
    "        for idx, batch in enumerate(data_loader):\n",
    "            img, target = batch[0].cuda(), batch[1].cuda()\n",
    "\n",
    "            ### PLEASE WRITE YOUR CODE BELOW.\n",
    "\n",
    "            # Make a prediction\n",
    "            output = model(img)[0]\n",
    "            y_pred_proba = model(img)[1].cpu()\n",
    "\n",
    "            # Calculate validation loss (although it is optional)\n",
    "            target = target.type(torch.LongTensor)\n",
    "            loss = criterion(output, target.squeeze(dim=-1).cuda())\n",
    "\n",
    "            # Get the right prediction - make sure naming the prediction as 'predicted' \n",
    "            _, predicted = torch.max(output.data, 1)\n",
    "\n",
    "            ### END OF THE CODE.\n",
    "\n",
    "            val_loss += loss.item()\n",
    "            val_acc += (predicted == target.squeeze(dim=-1).cuda()).sum().item()\n",
    "            val_targetvalues.extend(target.squeeze(dim=-1).cpu())\n",
    "            val_prepro.extend(y_pred_proba[:,1].cpu())\n",
    "            #print(roc_auc_score(target.squeeze(dim=-1).cpu(), y_pred_proba[:,1].cpu()))\n",
    "\n",
    "        total_val_acc = val_acc / len(data_loader.dataset)\n",
    "\n",
    "        \n",
    "\n",
    "\n",
    "        print('\\nValidation set: Average loss: {:.4f}, AUROC: ({:.4f})\\n'.format(\n",
    "            val_loss / len(data_loader),\n",
    "            100. * roc_auc_score(target.squeeze(dim=-1).cpu(), y_pred_proba[:,1].cpu())))\n",
    "    \n",
    "    return total_val_acc"
   ]
  },
  {
   "cell_type": "code",
   "execution_count": 92,
   "id": "b340ca9c-021f-43f5-8ebc-07385b278b28",
   "metadata": {},
   "outputs": [],
   "source": [
    "def test(model, data_loader):\n",
    "    model.eval()\n",
    "    test_acc = 0.0\n",
    "    targetvalues = []\n",
    "    test_prepro = []\n",
    "\n",
    "    with torch.no_grad():\n",
    "        for idx, batch in enumerate(data_loader):\n",
    "            img, target = batch[0].cuda(), batch[1].cuda()\n",
    "\n",
    "            ### PLEASE WRITE YOUR CODE BELOW.\n",
    "\n",
    "            # Make a prediction\n",
    "            output = model(img)[0]\n",
    "            y_pred_proba = model(img)[1].cpu()\n",
    "            \n",
    "\n",
    "            # Calculate validation loss (although it is optional)\n",
    "            target = target.type(torch.LongTensor)\n",
    "            loss = criterion(output, target.squeeze(dim=-1).cuda())\n",
    "\n",
    "            # Get the right prediction - make sure naming the prediction as 'predicted' \n",
    "            _, predicted = torch.max(output.data, 1)\n",
    "            test_acc += (predicted == target.squeeze(dim=-1).cuda()).sum().item()\n",
    "            targetvalues.extend(target.squeeze(dim=-1).cpu())\n",
    "            test_prepro.extend(y_pred_proba[:,1].cpu())\n",
    "\n",
    "            ### END OF THE CODE.\n",
    "\n",
    "        print('\\n Test set:  AUROC: ({:.4f})\\n'.format(100. * roc_auc_score(target.squeeze(dim=-1).cpu(), y_pred_proba[:,1].cpu())))\n",
    "        \n",
    "    return test_prepro, targetvalues"
   ]
  },
  {
   "cell_type": "code",
   "execution_count": 121,
   "id": "5e30b1f4-b249-4e36-a42d-faeee3f95abf",
   "metadata": {},
   "outputs": [],
   "source": [
    "def exam(model, data_loader):\n",
    "    model.eval()\n",
    "    test_acc = 0.0\n",
    "    targetvalues = []\n",
    "    test_prepro = []\n",
    "\n",
    "    with torch.no_grad():\n",
    "        for idx, batch in enumerate(data_loader):\n",
    "            img = batch[0].cuda()\n",
    "\n",
    "            ### PLEASE WRITE YOUR CODE BELOW.\n",
    "\n",
    "            # Make a prediction\n",
    "            output = model(img)[0]\n",
    "            y_pred_proba = model(img)[1].cpu()\n",
    "            test_prepro.extend(y_pred_proba[:,1].cpu())\n",
    "            \n",
    "\n",
    "        \n",
    "    return test_prepro"
   ]
  },
  {
   "cell_type": "code",
   "execution_count": 122,
   "id": "a35d0f1d-e054-4924-8b02-aa6712f32e79",
   "metadata": {
    "tags": []
   },
   "outputs": [
    {
     "name": "stderr",
     "output_type": "stream",
     "text": [
      "  0%|                                                                                           | 0/70 [00:00<?, ?it/s]"
     ]
    },
    {
     "name": "stdout",
     "output_type": "stream",
     "text": [
      "Train Epoch: 1 [0/640000 (0%)]\tLoss: 0.919505\n",
      "Train Epoch: 1 [100000/640000 (16%)]\tLoss: 0.217209\n",
      "Train Epoch: 1 [200000/640000 (31%)]\tLoss: 0.217024\n",
      "Train Epoch: 1 [300000/640000 (47%)]\tLoss: 0.197783\n",
      "Train Epoch: 1 [400000/640000 (62%)]\tLoss: 0.213312\n",
      "Train Epoch: 1 [500000/640000 (78%)]\tLoss: 0.213124\n",
      "Train Epoch: 1 [600000/640000 (94%)]\tLoss: 0.194453\n"
     ]
    },
    {
     "name": "stderr",
     "output_type": "stream",
     "text": [
      "  1%|█▏                                                                                 | 1/70 [00:09<10:35,  9.22s/it]"
     ]
    },
    {
     "name": "stdout",
     "output_type": "stream",
     "text": [
      "\n",
      "Validation set: Average loss: 0.1983, AUROC: (82.7695)\n",
      "\n",
      "Train Epoch: 2 [0/640000 (0%)]\tLoss: 0.206340\n",
      "Train Epoch: 2 [100000/640000 (16%)]\tLoss: 0.195692\n",
      "Train Epoch: 2 [200000/640000 (31%)]\tLoss: 0.204834\n",
      "Train Epoch: 2 [300000/640000 (47%)]\tLoss: 0.200996\n",
      "Train Epoch: 2 [400000/640000 (62%)]\tLoss: 0.199306\n",
      "Train Epoch: 2 [500000/640000 (78%)]\tLoss: 0.189545\n",
      "Train Epoch: 2 [600000/640000 (94%)]\tLoss: 0.193942\n"
     ]
    },
    {
     "name": "stderr",
     "output_type": "stream",
     "text": [
      "  3%|██▎                                                                                | 2/70 [00:18<10:21,  9.15s/it]"
     ]
    },
    {
     "name": "stdout",
     "output_type": "stream",
     "text": [
      "\n",
      "Validation set: Average loss: 0.1947, AUROC: (83.0964)\n",
      "\n",
      "Train Epoch: 3 [0/640000 (0%)]\tLoss: 0.192038\n",
      "Train Epoch: 3 [100000/640000 (16%)]\tLoss: 0.186407\n",
      "Train Epoch: 3 [200000/640000 (31%)]\tLoss: 0.174536\n",
      "Train Epoch: 3 [300000/640000 (47%)]\tLoss: 0.201396\n",
      "Train Epoch: 3 [400000/640000 (62%)]\tLoss: 0.200613\n",
      "Train Epoch: 3 [500000/640000 (78%)]\tLoss: 0.197547\n",
      "Train Epoch: 3 [600000/640000 (94%)]\tLoss: 0.176684\n"
     ]
    },
    {
     "name": "stderr",
     "output_type": "stream",
     "text": [
      "  4%|███▌                                                                               | 3/70 [00:27<10:24,  9.33s/it]"
     ]
    },
    {
     "name": "stdout",
     "output_type": "stream",
     "text": [
      "\n",
      "Validation set: Average loss: 0.1879, AUROC: (84.8447)\n",
      "\n",
      "Train Epoch: 4 [0/640000 (0%)]\tLoss: 0.187762\n",
      "Train Epoch: 4 [100000/640000 (16%)]\tLoss: 0.192755\n",
      "Train Epoch: 4 [200000/640000 (31%)]\tLoss: 0.210511\n",
      "Train Epoch: 4 [300000/640000 (47%)]\tLoss: 0.197502\n",
      "Train Epoch: 4 [400000/640000 (62%)]\tLoss: 0.161879\n",
      "Train Epoch: 4 [500000/640000 (78%)]\tLoss: 0.219994\n",
      "Train Epoch: 4 [600000/640000 (94%)]\tLoss: 0.187233\n"
     ]
    },
    {
     "name": "stderr",
     "output_type": "stream",
     "text": [
      "  6%|████▋                                                                              | 4/70 [00:37<10:19,  9.39s/it]"
     ]
    },
    {
     "name": "stdout",
     "output_type": "stream",
     "text": [
      "\n",
      "Validation set: Average loss: 0.1863, AUROC: (85.1585)\n",
      "\n",
      "Train Epoch: 5 [0/640000 (0%)]\tLoss: 0.154985\n",
      "Train Epoch: 5 [100000/640000 (16%)]\tLoss: 0.199199\n",
      "Train Epoch: 5 [200000/640000 (31%)]\tLoss: 0.233154\n",
      "Train Epoch: 5 [300000/640000 (47%)]\tLoss: 0.192367\n",
      "Train Epoch: 5 [400000/640000 (62%)]\tLoss: 0.203269\n",
      "Train Epoch: 5 [500000/640000 (78%)]\tLoss: 0.170908\n",
      "Train Epoch: 5 [600000/640000 (94%)]\tLoss: 0.203448\n"
     ]
    },
    {
     "name": "stderr",
     "output_type": "stream",
     "text": [
      "  7%|█████▉                                                                             | 5/70 [00:47<10:17,  9.50s/it]"
     ]
    },
    {
     "name": "stdout",
     "output_type": "stream",
     "text": [
      "\n",
      "Validation set: Average loss: 0.1851, AUROC: (85.7699)\n",
      "\n",
      "Train Epoch: 6 [0/640000 (0%)]\tLoss: 0.186976\n",
      "Train Epoch: 6 [100000/640000 (16%)]\tLoss: 0.149472\n",
      "Train Epoch: 6 [200000/640000 (31%)]\tLoss: 0.171714\n",
      "Train Epoch: 6 [300000/640000 (47%)]\tLoss: 0.184042\n",
      "Train Epoch: 6 [400000/640000 (62%)]\tLoss: 0.179396\n",
      "Train Epoch: 6 [500000/640000 (78%)]\tLoss: 0.237511\n",
      "Train Epoch: 6 [600000/640000 (94%)]\tLoss: 0.223784\n"
     ]
    },
    {
     "name": "stderr",
     "output_type": "stream",
     "text": [
      "  9%|███████                                                                            | 6/70 [00:56<10:03,  9.43s/it]"
     ]
    },
    {
     "name": "stdout",
     "output_type": "stream",
     "text": [
      "\n",
      "Validation set: Average loss: 0.1827, AUROC: (85.9305)\n",
      "\n",
      "Train Epoch: 7 [0/640000 (0%)]\tLoss: 0.168846\n",
      "Train Epoch: 7 [100000/640000 (16%)]\tLoss: 0.179167\n",
      "Train Epoch: 7 [200000/640000 (31%)]\tLoss: 0.184544\n",
      "Train Epoch: 7 [300000/640000 (47%)]\tLoss: 0.199539\n",
      "Train Epoch: 7 [400000/640000 (62%)]\tLoss: 0.183842\n",
      "Train Epoch: 7 [500000/640000 (78%)]\tLoss: 0.161790\n",
      "Train Epoch: 7 [600000/640000 (94%)]\tLoss: 0.184513\n"
     ]
    },
    {
     "name": "stderr",
     "output_type": "stream",
     "text": [
      " 10%|████████▎                                                                          | 7/70 [01:07<10:19,  9.84s/it]"
     ]
    },
    {
     "name": "stdout",
     "output_type": "stream",
     "text": [
      "\n",
      "Validation set: Average loss: 0.1818, AUROC: (87.1461)\n",
      "\n",
      "Train Epoch: 8 [0/640000 (0%)]\tLoss: 0.152509\n",
      "Train Epoch: 8 [100000/640000 (16%)]\tLoss: 0.186345\n",
      "Train Epoch: 8 [200000/640000 (31%)]\tLoss: 0.216546\n",
      "Train Epoch: 8 [300000/640000 (47%)]\tLoss: 0.160836\n",
      "Train Epoch: 8 [400000/640000 (62%)]\tLoss: 0.202647\n",
      "Train Epoch: 8 [500000/640000 (78%)]\tLoss: 0.194775\n",
      "Train Epoch: 8 [600000/640000 (94%)]\tLoss: 0.192338\n"
     ]
    },
    {
     "name": "stderr",
     "output_type": "stream",
     "text": [
      " 11%|█████████▍                                                                         | 8/70 [01:17<10:17,  9.96s/it]"
     ]
    },
    {
     "name": "stdout",
     "output_type": "stream",
     "text": [
      "\n",
      "Validation set: Average loss: 0.1829, AUROC: (86.1406)\n",
      "\n",
      "Train Epoch: 9 [0/640000 (0%)]\tLoss: 0.189447\n",
      "Train Epoch: 9 [100000/640000 (16%)]\tLoss: 0.167333\n",
      "Train Epoch: 9 [200000/640000 (31%)]\tLoss: 0.181619\n",
      "Train Epoch: 9 [300000/640000 (47%)]\tLoss: 0.178285\n",
      "Train Epoch: 9 [400000/640000 (62%)]\tLoss: 0.160806\n",
      "Train Epoch: 9 [500000/640000 (78%)]\tLoss: 0.178965\n",
      "Train Epoch: 9 [600000/640000 (94%)]\tLoss: 0.214023\n"
     ]
    },
    {
     "name": "stderr",
     "output_type": "stream",
     "text": [
      " 13%|██████████▋                                                                        | 9/70 [01:26<09:51,  9.70s/it]"
     ]
    },
    {
     "name": "stdout",
     "output_type": "stream",
     "text": [
      "\n",
      "Validation set: Average loss: 0.1836, AUROC: (86.4179)\n",
      "\n",
      "Train Epoch: 10 [0/640000 (0%)]\tLoss: 0.188832\n",
      "Train Epoch: 10 [100000/640000 (16%)]\tLoss: 0.204307\n",
      "Train Epoch: 10 [200000/640000 (31%)]\tLoss: 0.171629\n",
      "Train Epoch: 10 [300000/640000 (47%)]\tLoss: 0.166234\n",
      "Train Epoch: 10 [400000/640000 (62%)]\tLoss: 0.205707\n",
      "Train Epoch: 10 [500000/640000 (78%)]\tLoss: 0.191357\n",
      "Train Epoch: 10 [600000/640000 (94%)]\tLoss: 0.161644\n"
     ]
    },
    {
     "name": "stderr",
     "output_type": "stream",
     "text": [
      " 14%|███████████▋                                                                      | 10/70 [01:36<09:47,  9.79s/it]"
     ]
    },
    {
     "name": "stdout",
     "output_type": "stream",
     "text": [
      "\n",
      "Validation set: Average loss: 0.1919, AUROC: (85.7860)\n",
      "\n",
      "Train Epoch: 11 [0/640000 (0%)]\tLoss: 0.194933\n",
      "Train Epoch: 11 [100000/640000 (16%)]\tLoss: 0.156054\n",
      "Train Epoch: 11 [200000/640000 (31%)]\tLoss: 0.158577\n",
      "Train Epoch: 11 [300000/640000 (47%)]\tLoss: 0.174509\n",
      "Train Epoch: 11 [400000/640000 (62%)]\tLoss: 0.178182\n",
      "Train Epoch: 11 [500000/640000 (78%)]\tLoss: 0.206547\n",
      "Train Epoch: 11 [600000/640000 (94%)]\tLoss: 0.172561\n"
     ]
    },
    {
     "name": "stderr",
     "output_type": "stream",
     "text": [
      " 16%|████████████▉                                                                     | 11/70 [01:46<09:39,  9.83s/it]"
     ]
    },
    {
     "name": "stdout",
     "output_type": "stream",
     "text": [
      "\n",
      "Validation set: Average loss: 0.1810, AUROC: (85.9494)\n",
      "\n",
      "Train Epoch: 12 [0/640000 (0%)]\tLoss: 0.194071\n",
      "Train Epoch: 12 [100000/640000 (16%)]\tLoss: 0.175187\n",
      "Train Epoch: 12 [200000/640000 (31%)]\tLoss: 0.167136\n",
      "Train Epoch: 12 [300000/640000 (47%)]\tLoss: 0.180809\n",
      "Train Epoch: 12 [400000/640000 (62%)]\tLoss: 0.188261\n",
      "Train Epoch: 12 [500000/640000 (78%)]\tLoss: 0.165657\n",
      "Train Epoch: 12 [600000/640000 (94%)]\tLoss: 0.170857\n"
     ]
    },
    {
     "name": "stderr",
     "output_type": "stream",
     "text": [
      " 17%|██████████████                                                                    | 12/70 [01:55<09:25,  9.76s/it]"
     ]
    },
    {
     "name": "stdout",
     "output_type": "stream",
     "text": [
      "\n",
      "Validation set: Average loss: 0.1822, AUROC: (85.3482)\n",
      "\n",
      "Train Epoch: 13 [0/640000 (0%)]\tLoss: 0.210469\n",
      "Train Epoch: 13 [100000/640000 (16%)]\tLoss: 0.192339\n",
      "Train Epoch: 13 [200000/640000 (31%)]\tLoss: 0.186900\n",
      "Train Epoch: 13 [300000/640000 (47%)]\tLoss: 0.207235\n",
      "Train Epoch: 13 [400000/640000 (62%)]\tLoss: 0.172648\n",
      "Train Epoch: 13 [500000/640000 (78%)]\tLoss: 0.192959\n",
      "Train Epoch: 13 [600000/640000 (94%)]\tLoss: 0.155516\n"
     ]
    },
    {
     "name": "stderr",
     "output_type": "stream",
     "text": [
      " 19%|███████████████▏                                                                  | 13/70 [02:05<09:08,  9.63s/it]"
     ]
    },
    {
     "name": "stdout",
     "output_type": "stream",
     "text": [
      "\n",
      "Validation set: Average loss: 0.1783, AUROC: (87.2380)\n",
      "\n",
      "Train Epoch: 14 [0/640000 (0%)]\tLoss: 0.183011\n",
      "Train Epoch: 14 [100000/640000 (16%)]\tLoss: 0.187775\n",
      "Train Epoch: 14 [200000/640000 (31%)]\tLoss: 0.186068\n",
      "Train Epoch: 14 [300000/640000 (47%)]\tLoss: 0.193510\n",
      "Train Epoch: 14 [400000/640000 (62%)]\tLoss: 0.173463\n",
      "Train Epoch: 14 [500000/640000 (78%)]\tLoss: 0.178556\n",
      "Train Epoch: 14 [600000/640000 (94%)]\tLoss: 0.184367\n"
     ]
    },
    {
     "name": "stderr",
     "output_type": "stream",
     "text": [
      " 20%|████████████████▍                                                                 | 14/70 [02:15<09:02,  9.69s/it]"
     ]
    },
    {
     "name": "stdout",
     "output_type": "stream",
     "text": [
      "\n",
      "Validation set: Average loss: 0.1783, AUROC: (87.5591)\n",
      "\n",
      "Train Epoch: 15 [0/640000 (0%)]\tLoss: 0.198283\n",
      "Train Epoch: 15 [100000/640000 (16%)]\tLoss: 0.160394\n",
      "Train Epoch: 15 [200000/640000 (31%)]\tLoss: 0.213399\n",
      "Train Epoch: 15 [300000/640000 (47%)]\tLoss: 0.187161\n",
      "Train Epoch: 15 [400000/640000 (62%)]\tLoss: 0.175136\n",
      "Train Epoch: 15 [500000/640000 (78%)]\tLoss: 0.190511\n",
      "Train Epoch: 15 [600000/640000 (94%)]\tLoss: 0.182828\n"
     ]
    },
    {
     "name": "stderr",
     "output_type": "stream",
     "text": [
      " 21%|█████████████████▌                                                                | 15/70 [02:25<09:01,  9.84s/it]"
     ]
    },
    {
     "name": "stdout",
     "output_type": "stream",
     "text": [
      "\n",
      "Validation set: Average loss: 0.1787, AUROC: (87.1009)\n",
      "\n",
      "Train Epoch: 16 [0/640000 (0%)]\tLoss: 0.212199\n",
      "Train Epoch: 16 [100000/640000 (16%)]\tLoss: 0.196614\n",
      "Train Epoch: 16 [200000/640000 (31%)]\tLoss: 0.178503\n",
      "Train Epoch: 16 [300000/640000 (47%)]\tLoss: 0.159059\n",
      "Train Epoch: 16 [400000/640000 (62%)]\tLoss: 0.188065\n",
      "Train Epoch: 16 [500000/640000 (78%)]\tLoss: 0.194428\n",
      "Train Epoch: 16 [600000/640000 (94%)]\tLoss: 0.156381\n"
     ]
    },
    {
     "name": "stderr",
     "output_type": "stream",
     "text": [
      " 23%|██████████████████▋                                                               | 16/70 [02:36<09:06, 10.13s/it]"
     ]
    },
    {
     "name": "stdout",
     "output_type": "stream",
     "text": [
      "\n",
      "Validation set: Average loss: 0.1775, AUROC: (87.8583)\n",
      "\n",
      "Train Epoch: 17 [0/640000 (0%)]\tLoss: 0.208179\n",
      "Train Epoch: 17 [100000/640000 (16%)]\tLoss: 0.185225\n",
      "Train Epoch: 17 [200000/640000 (31%)]\tLoss: 0.166611\n",
      "Train Epoch: 17 [300000/640000 (47%)]\tLoss: 0.181255\n",
      "Train Epoch: 17 [400000/640000 (62%)]\tLoss: 0.173998\n",
      "Train Epoch: 17 [500000/640000 (78%)]\tLoss: 0.171126\n",
      "Train Epoch: 17 [600000/640000 (94%)]\tLoss: 0.188383\n"
     ]
    },
    {
     "name": "stderr",
     "output_type": "stream",
     "text": [
      " 24%|███████████████████▉                                                              | 17/70 [02:45<08:42,  9.85s/it]"
     ]
    },
    {
     "name": "stdout",
     "output_type": "stream",
     "text": [
      "\n",
      "Validation set: Average loss: 0.1788, AUROC: (88.2202)\n",
      "\n",
      "Train Epoch: 18 [0/640000 (0%)]\tLoss: 0.169250\n",
      "Train Epoch: 18 [100000/640000 (16%)]\tLoss: 0.178905\n",
      "Train Epoch: 18 [200000/640000 (31%)]\tLoss: 0.174840\n",
      "Train Epoch: 18 [300000/640000 (47%)]\tLoss: 0.198157\n",
      "Train Epoch: 18 [400000/640000 (62%)]\tLoss: 0.169472\n",
      "Train Epoch: 18 [500000/640000 (78%)]\tLoss: 0.190916\n",
      "Train Epoch: 18 [600000/640000 (94%)]\tLoss: 0.177805\n"
     ]
    },
    {
     "name": "stderr",
     "output_type": "stream",
     "text": [
      " 26%|█████████████████████                                                             | 18/70 [02:55<08:34,  9.89s/it]"
     ]
    },
    {
     "name": "stdout",
     "output_type": "stream",
     "text": [
      "\n",
      "Validation set: Average loss: 0.1776, AUROC: (87.5343)\n",
      "\n",
      "Train Epoch: 19 [0/640000 (0%)]\tLoss: 0.173784\n",
      "Train Epoch: 19 [100000/640000 (16%)]\tLoss: 0.161269\n",
      "Train Epoch: 19 [200000/640000 (31%)]\tLoss: 0.179398\n",
      "Train Epoch: 19 [300000/640000 (47%)]\tLoss: 0.195369\n",
      "Train Epoch: 19 [400000/640000 (62%)]\tLoss: 0.184124\n",
      "Train Epoch: 19 [500000/640000 (78%)]\tLoss: 0.180679\n",
      "Train Epoch: 19 [600000/640000 (94%)]\tLoss: 0.185025\n"
     ]
    },
    {
     "name": "stderr",
     "output_type": "stream",
     "text": [
      " 27%|██████████████████████▎                                                           | 19/70 [03:05<08:29,  9.98s/it]"
     ]
    },
    {
     "name": "stdout",
     "output_type": "stream",
     "text": [
      "\n",
      "Validation set: Average loss: 0.1786, AUROC: (87.9137)\n",
      "\n",
      "Train Epoch: 20 [0/640000 (0%)]\tLoss: 0.164945\n",
      "Train Epoch: 20 [100000/640000 (16%)]\tLoss: 0.197372\n",
      "Train Epoch: 20 [200000/640000 (31%)]\tLoss: 0.140910\n",
      "Train Epoch: 20 [300000/640000 (47%)]\tLoss: 0.193504\n",
      "Train Epoch: 20 [400000/640000 (62%)]\tLoss: 0.204389\n",
      "Train Epoch: 20 [500000/640000 (78%)]\tLoss: 0.204749\n",
      "Train Epoch: 20 [600000/640000 (94%)]\tLoss: 0.200207\n"
     ]
    },
    {
     "name": "stderr",
     "output_type": "stream",
     "text": [
      " 29%|███████████████████████▍                                                          | 20/70 [03:15<08:23, 10.07s/it]"
     ]
    },
    {
     "name": "stdout",
     "output_type": "stream",
     "text": [
      "\n",
      "Validation set: Average loss: 0.1795, AUROC: (87.7634)\n",
      "\n",
      "Train Epoch: 21 [0/640000 (0%)]\tLoss: 0.184407\n",
      "Train Epoch: 21 [100000/640000 (16%)]\tLoss: 0.189890\n",
      "Train Epoch: 21 [200000/640000 (31%)]\tLoss: 0.168141\n",
      "Train Epoch: 21 [300000/640000 (47%)]\tLoss: 0.182922\n",
      "Train Epoch: 21 [400000/640000 (62%)]\tLoss: 0.179175\n",
      "Train Epoch: 21 [500000/640000 (78%)]\tLoss: 0.163912\n",
      "Train Epoch: 21 [600000/640000 (94%)]\tLoss: 0.164820\n"
     ]
    },
    {
     "name": "stderr",
     "output_type": "stream",
     "text": [
      " 30%|████████████████████████▌                                                         | 21/70 [03:25<08:14, 10.09s/it]"
     ]
    },
    {
     "name": "stdout",
     "output_type": "stream",
     "text": [
      "\n",
      "Validation set: Average loss: 0.1774, AUROC: (87.7459)\n",
      "\n",
      "Train Epoch: 22 [0/640000 (0%)]\tLoss: 0.229090\n",
      "Train Epoch: 22 [100000/640000 (16%)]\tLoss: 0.193915\n",
      "Train Epoch: 22 [200000/640000 (31%)]\tLoss: 0.163104\n",
      "Train Epoch: 22 [300000/640000 (47%)]\tLoss: 0.189075\n",
      "Train Epoch: 22 [400000/640000 (62%)]\tLoss: 0.185347\n",
      "Train Epoch: 22 [500000/640000 (78%)]\tLoss: 0.196980\n",
      "Train Epoch: 22 [600000/640000 (94%)]\tLoss: 0.205375\n"
     ]
    },
    {
     "name": "stderr",
     "output_type": "stream",
     "text": [
      " 31%|█████████████████████████▊                                                        | 22/70 [03:35<07:56,  9.92s/it]"
     ]
    },
    {
     "name": "stdout",
     "output_type": "stream",
     "text": [
      "\n",
      "Validation set: Average loss: 0.1777, AUROC: (88.3282)\n",
      "\n",
      "Train Epoch: 23 [0/640000 (0%)]\tLoss: 0.203719\n",
      "Train Epoch: 23 [100000/640000 (16%)]\tLoss: 0.163389\n",
      "Train Epoch: 23 [200000/640000 (31%)]\tLoss: 0.177467\n",
      "Train Epoch: 23 [300000/640000 (47%)]\tLoss: 0.188518\n",
      "Train Epoch: 23 [400000/640000 (62%)]\tLoss: 0.181939\n",
      "Train Epoch: 23 [500000/640000 (78%)]\tLoss: 0.175919\n",
      "Train Epoch: 23 [600000/640000 (94%)]\tLoss: 0.169820\n"
     ]
    },
    {
     "name": "stderr",
     "output_type": "stream",
     "text": [
      " 33%|██████████████████████████▉                                                       | 23/70 [03:44<07:36,  9.72s/it]"
     ]
    },
    {
     "name": "stdout",
     "output_type": "stream",
     "text": [
      "\n",
      "Validation set: Average loss: 0.1862, AUROC: (87.3752)\n",
      "\n",
      "Train Epoch: 24 [0/640000 (0%)]\tLoss: 0.206573\n",
      "Train Epoch: 24 [100000/640000 (16%)]\tLoss: 0.185332\n",
      "Train Epoch: 24 [200000/640000 (31%)]\tLoss: 0.182920\n",
      "Train Epoch: 24 [300000/640000 (47%)]\tLoss: 0.209079\n",
      "Train Epoch: 24 [400000/640000 (62%)]\tLoss: 0.193626\n",
      "Train Epoch: 24 [500000/640000 (78%)]\tLoss: 0.190405\n",
      "Train Epoch: 24 [600000/640000 (94%)]\tLoss: 0.175203\n"
     ]
    },
    {
     "name": "stderr",
     "output_type": "stream",
     "text": [
      " 34%|████████████████████████████                                                      | 24/70 [03:54<07:25,  9.68s/it]"
     ]
    },
    {
     "name": "stdout",
     "output_type": "stream",
     "text": [
      "\n",
      "Validation set: Average loss: 0.1767, AUROC: (88.0363)\n",
      "\n",
      "Train Epoch: 25 [0/640000 (0%)]\tLoss: 0.159893\n",
      "Train Epoch: 25 [100000/640000 (16%)]\tLoss: 0.184045\n",
      "Train Epoch: 25 [200000/640000 (31%)]\tLoss: 0.194866\n",
      "Train Epoch: 25 [300000/640000 (47%)]\tLoss: 0.153736\n",
      "Train Epoch: 25 [400000/640000 (62%)]\tLoss: 0.169846\n",
      "Train Epoch: 25 [500000/640000 (78%)]\tLoss: 0.191674\n",
      "Train Epoch: 25 [600000/640000 (94%)]\tLoss: 0.186276\n"
     ]
    },
    {
     "name": "stderr",
     "output_type": "stream",
     "text": [
      " 36%|█████████████████████████████▎                                                    | 25/70 [04:03<07:09,  9.55s/it]"
     ]
    },
    {
     "name": "stdout",
     "output_type": "stream",
     "text": [
      "\n",
      "Validation set: Average loss: 0.1764, AUROC: (88.5252)\n",
      "\n",
      "Train Epoch: 26 [0/640000 (0%)]\tLoss: 0.173516\n",
      "Train Epoch: 26 [100000/640000 (16%)]\tLoss: 0.211122\n",
      "Train Epoch: 26 [200000/640000 (31%)]\tLoss: 0.214253\n",
      "Train Epoch: 26 [300000/640000 (47%)]\tLoss: 0.176071\n",
      "Train Epoch: 26 [400000/640000 (62%)]\tLoss: 0.147836\n",
      "Train Epoch: 26 [500000/640000 (78%)]\tLoss: 0.171104\n",
      "Train Epoch: 26 [600000/640000 (94%)]\tLoss: 0.199469\n"
     ]
    },
    {
     "name": "stderr",
     "output_type": "stream",
     "text": [
      " 37%|██████████████████████████████▍                                                   | 26/70 [04:12<06:59,  9.54s/it]"
     ]
    },
    {
     "name": "stdout",
     "output_type": "stream",
     "text": [
      "\n",
      "Validation set: Average loss: 0.1775, AUROC: (87.9779)\n",
      "\n",
      "Train Epoch: 27 [0/640000 (0%)]\tLoss: 0.184091\n",
      "Train Epoch: 27 [100000/640000 (16%)]\tLoss: 0.196408\n",
      "Train Epoch: 27 [200000/640000 (31%)]\tLoss: 0.165070\n",
      "Train Epoch: 27 [300000/640000 (47%)]\tLoss: 0.183285\n",
      "Train Epoch: 27 [400000/640000 (62%)]\tLoss: 0.194700\n",
      "Train Epoch: 27 [500000/640000 (78%)]\tLoss: 0.209727\n",
      "Train Epoch: 27 [600000/640000 (94%)]\tLoss: 0.169919\n"
     ]
    },
    {
     "name": "stderr",
     "output_type": "stream",
     "text": [
      " 39%|███████████████████████████████▋                                                  | 27/70 [04:22<06:51,  9.58s/it]"
     ]
    },
    {
     "name": "stdout",
     "output_type": "stream",
     "text": [
      "\n",
      "Validation set: Average loss: 0.1769, AUROC: (88.5121)\n",
      "\n",
      "Train Epoch: 28 [0/640000 (0%)]\tLoss: 0.168671\n",
      "Train Epoch: 28 [100000/640000 (16%)]\tLoss: 0.187856\n",
      "Train Epoch: 28 [200000/640000 (31%)]\tLoss: 0.187330\n",
      "Train Epoch: 28 [300000/640000 (47%)]\tLoss: 0.175465\n",
      "Train Epoch: 28 [400000/640000 (62%)]\tLoss: 0.192174\n",
      "Train Epoch: 28 [500000/640000 (78%)]\tLoss: 0.217737\n",
      "Train Epoch: 28 [600000/640000 (94%)]\tLoss: 0.176879\n"
     ]
    },
    {
     "name": "stderr",
     "output_type": "stream",
     "text": [
      " 40%|████████████████████████████████▊                                                 | 28/70 [04:31<06:38,  9.48s/it]"
     ]
    },
    {
     "name": "stdout",
     "output_type": "stream",
     "text": [
      "\n",
      "Validation set: Average loss: 0.1767, AUROC: (88.4945)\n",
      "\n",
      "Train Epoch: 29 [0/640000 (0%)]\tLoss: 0.173981\n",
      "Train Epoch: 29 [100000/640000 (16%)]\tLoss: 0.185963\n",
      "Train Epoch: 29 [200000/640000 (31%)]\tLoss: 0.156710\n",
      "Train Epoch: 29 [300000/640000 (47%)]\tLoss: 0.212425\n",
      "Train Epoch: 29 [400000/640000 (62%)]\tLoss: 0.180313\n",
      "Train Epoch: 29 [500000/640000 (78%)]\tLoss: 0.193888\n",
      "Train Epoch: 29 [600000/640000 (94%)]\tLoss: 0.185937\n"
     ]
    },
    {
     "name": "stderr",
     "output_type": "stream",
     "text": [
      " 41%|█████████████████████████████████▉                                                | 29/70 [04:41<06:29,  9.51s/it]"
     ]
    },
    {
     "name": "stdout",
     "output_type": "stream",
     "text": [
      "\n",
      "Validation set: Average loss: 0.1769, AUROC: (88.4405)\n",
      "\n",
      "Train Epoch: 30 [0/640000 (0%)]\tLoss: 0.181155\n",
      "Train Epoch: 30 [100000/640000 (16%)]\tLoss: 0.173880\n",
      "Train Epoch: 30 [200000/640000 (31%)]\tLoss: 0.194164\n",
      "Train Epoch: 30 [300000/640000 (47%)]\tLoss: 0.179947\n",
      "Train Epoch: 30 [400000/640000 (62%)]\tLoss: 0.172036\n",
      "Train Epoch: 30 [500000/640000 (78%)]\tLoss: 0.163690\n",
      "Train Epoch: 30 [600000/640000 (94%)]\tLoss: 0.176191\n"
     ]
    },
    {
     "name": "stderr",
     "output_type": "stream",
     "text": [
      " 43%|███████████████████████████████████▏                                              | 30/70 [04:51<06:28,  9.71s/it]"
     ]
    },
    {
     "name": "stdout",
     "output_type": "stream",
     "text": [
      "\n",
      "Validation set: Average loss: 0.1769, AUROC: (89.0374)\n",
      "\n",
      "Train Epoch: 31 [0/640000 (0%)]\tLoss: 0.166376\n",
      "Train Epoch: 31 [100000/640000 (16%)]\tLoss: 0.159013\n",
      "Train Epoch: 31 [200000/640000 (31%)]\tLoss: 0.180271\n",
      "Train Epoch: 31 [300000/640000 (47%)]\tLoss: 0.192986\n",
      "Train Epoch: 31 [400000/640000 (62%)]\tLoss: 0.174464\n",
      "Train Epoch: 31 [500000/640000 (78%)]\tLoss: 0.149026\n",
      "Train Epoch: 31 [600000/640000 (94%)]\tLoss: 0.149182\n"
     ]
    },
    {
     "name": "stderr",
     "output_type": "stream",
     "text": [
      " 44%|████████████████████████████████████▎                                             | 31/70 [05:03<06:39, 10.26s/it]"
     ]
    },
    {
     "name": "stdout",
     "output_type": "stream",
     "text": [
      "\n",
      "Validation set: Average loss: 0.1757, AUROC: (88.7893)\n",
      "\n",
      "Train Epoch: 32 [0/640000 (0%)]\tLoss: 0.192580\n",
      "Train Epoch: 32 [100000/640000 (16%)]\tLoss: 0.188346\n",
      "Train Epoch: 32 [200000/640000 (31%)]\tLoss: 0.186172\n",
      "Train Epoch: 32 [300000/640000 (47%)]\tLoss: 0.174841\n",
      "Train Epoch: 32 [400000/640000 (62%)]\tLoss: 0.208982\n",
      "Train Epoch: 32 [500000/640000 (78%)]\tLoss: 0.177084\n",
      "Train Epoch: 32 [600000/640000 (94%)]\tLoss: 0.175579\n"
     ]
    },
    {
     "name": "stderr",
     "output_type": "stream",
     "text": [
      " 46%|█████████████████████████████████████▍                                            | 32/70 [05:15<06:52, 10.87s/it]"
     ]
    },
    {
     "name": "stdout",
     "output_type": "stream",
     "text": [
      "\n",
      "Validation set: Average loss: 0.1766, AUROC: (88.5471)\n",
      "\n",
      "Train Epoch: 33 [0/640000 (0%)]\tLoss: 0.134918\n",
      "Train Epoch: 33 [100000/640000 (16%)]\tLoss: 0.203756\n",
      "Train Epoch: 33 [200000/640000 (31%)]\tLoss: 0.178171\n",
      "Train Epoch: 33 [300000/640000 (47%)]\tLoss: 0.166890\n",
      "Train Epoch: 33 [400000/640000 (62%)]\tLoss: 0.205121\n",
      "Train Epoch: 33 [500000/640000 (78%)]\tLoss: 0.170585\n",
      "Train Epoch: 33 [600000/640000 (94%)]\tLoss: 0.167411\n"
     ]
    },
    {
     "name": "stderr",
     "output_type": "stream",
     "text": [
      " 47%|██████████████████████████████████████▋                                           | 33/70 [05:27<06:53, 11.17s/it]"
     ]
    },
    {
     "name": "stdout",
     "output_type": "stream",
     "text": [
      "\n",
      "Validation set: Average loss: 0.1802, AUROC: (89.5132)\n",
      "\n",
      "Train Epoch: 34 [0/640000 (0%)]\tLoss: 0.166300\n",
      "Train Epoch: 34 [100000/640000 (16%)]\tLoss: 0.191087\n",
      "Train Epoch: 34 [200000/640000 (31%)]\tLoss: 0.193007\n",
      "Train Epoch: 34 [300000/640000 (47%)]\tLoss: 0.151876\n",
      "Train Epoch: 34 [400000/640000 (62%)]\tLoss: 0.172721\n",
      "Train Epoch: 34 [500000/640000 (78%)]\tLoss: 0.166143\n",
      "Train Epoch: 34 [600000/640000 (94%)]\tLoss: 0.164133\n"
     ]
    },
    {
     "name": "stderr",
     "output_type": "stream",
     "text": [
      " 49%|███████████████████████████████████████▊                                          | 34/70 [05:39<06:47, 11.33s/it]"
     ]
    },
    {
     "name": "stdout",
     "output_type": "stream",
     "text": [
      "\n",
      "Validation set: Average loss: 0.1765, AUROC: (88.7426)\n",
      "\n",
      "Train Epoch: 35 [0/640000 (0%)]\tLoss: 0.169447\n",
      "Train Epoch: 35 [100000/640000 (16%)]\tLoss: 0.184221\n",
      "Train Epoch: 35 [200000/640000 (31%)]\tLoss: 0.193709\n",
      "Train Epoch: 35 [300000/640000 (47%)]\tLoss: 0.184043\n",
      "Train Epoch: 35 [400000/640000 (62%)]\tLoss: 0.175775\n",
      "Train Epoch: 35 [500000/640000 (78%)]\tLoss: 0.165805\n",
      "Train Epoch: 35 [600000/640000 (94%)]\tLoss: 0.157505\n"
     ]
    },
    {
     "name": "stderr",
     "output_type": "stream",
     "text": [
      " 50%|█████████████████████████████████████████                                         | 35/70 [05:48<06:21, 10.90s/it]"
     ]
    },
    {
     "name": "stdout",
     "output_type": "stream",
     "text": [
      "\n",
      "Validation set: Average loss: 0.1755, AUROC: (89.3366)\n",
      "\n",
      "Train Epoch: 36 [0/640000 (0%)]\tLoss: 0.165677\n",
      "Train Epoch: 36 [100000/640000 (16%)]\tLoss: 0.165153\n",
      "Train Epoch: 36 [200000/640000 (31%)]\tLoss: 0.178737\n",
      "Train Epoch: 36 [300000/640000 (47%)]\tLoss: 0.164642\n",
      "Train Epoch: 36 [400000/640000 (62%)]\tLoss: 0.172436\n",
      "Train Epoch: 36 [500000/640000 (78%)]\tLoss: 0.189567\n",
      "Train Epoch: 36 [600000/640000 (94%)]\tLoss: 0.155624\n"
     ]
    },
    {
     "name": "stderr",
     "output_type": "stream",
     "text": [
      " 51%|██████████████████████████████████████████▏                                       | 36/70 [05:59<06:06, 10.78s/it]"
     ]
    },
    {
     "name": "stdout",
     "output_type": "stream",
     "text": [
      "\n",
      "Validation set: Average loss: 0.1757, AUROC: (89.2840)\n",
      "\n",
      "Train Epoch: 37 [0/640000 (0%)]\tLoss: 0.177645\n",
      "Train Epoch: 37 [100000/640000 (16%)]\tLoss: 0.194022\n",
      "Train Epoch: 37 [200000/640000 (31%)]\tLoss: 0.173380\n",
      "Train Epoch: 37 [300000/640000 (47%)]\tLoss: 0.159804\n",
      "Train Epoch: 37 [400000/640000 (62%)]\tLoss: 0.171993\n",
      "Train Epoch: 37 [500000/640000 (78%)]\tLoss: 0.140567\n",
      "Train Epoch: 37 [600000/640000 (94%)]\tLoss: 0.168422\n"
     ]
    },
    {
     "name": "stderr",
     "output_type": "stream",
     "text": [
      " 53%|███████████████████████████████████████████▎                                      | 37/70 [06:10<06:01, 10.97s/it]"
     ]
    },
    {
     "name": "stdout",
     "output_type": "stream",
     "text": [
      "\n",
      "Validation set: Average loss: 0.1760, AUROC: (89.8488)\n",
      "\n",
      "Train Epoch: 38 [0/640000 (0%)]\tLoss: 0.173357\n",
      "Train Epoch: 38 [100000/640000 (16%)]\tLoss: 0.189026\n",
      "Train Epoch: 38 [200000/640000 (31%)]\tLoss: 0.195725\n",
      "Train Epoch: 38 [300000/640000 (47%)]\tLoss: 0.169753\n",
      "Train Epoch: 38 [400000/640000 (62%)]\tLoss: 0.158993\n",
      "Train Epoch: 38 [500000/640000 (78%)]\tLoss: 0.196864\n",
      "Train Epoch: 38 [600000/640000 (94%)]\tLoss: 0.208838\n"
     ]
    },
    {
     "name": "stderr",
     "output_type": "stream",
     "text": [
      " 54%|████████████████████████████████████████████▌                                     | 38/70 [06:20<05:36, 10.52s/it]"
     ]
    },
    {
     "name": "stdout",
     "output_type": "stream",
     "text": [
      "\n",
      "Validation set: Average loss: 0.1761, AUROC: (88.9878)\n",
      "\n",
      "Train Epoch: 39 [0/640000 (0%)]\tLoss: 0.176733\n",
      "Train Epoch: 39 [100000/640000 (16%)]\tLoss: 0.197234\n",
      "Train Epoch: 39 [200000/640000 (31%)]\tLoss: 0.169984\n",
      "Train Epoch: 39 [300000/640000 (47%)]\tLoss: 0.186054\n",
      "Train Epoch: 39 [400000/640000 (62%)]\tLoss: 0.212582\n",
      "Train Epoch: 39 [500000/640000 (78%)]\tLoss: 0.163505\n",
      "Train Epoch: 39 [600000/640000 (94%)]\tLoss: 0.167213\n"
     ]
    },
    {
     "name": "stderr",
     "output_type": "stream",
     "text": [
      " 56%|█████████████████████████████████████████████▋                                    | 39/70 [06:29<05:14, 10.15s/it]"
     ]
    },
    {
     "name": "stdout",
     "output_type": "stream",
     "text": [
      "\n",
      "Validation set: Average loss: 0.1820, AUROC: (87.7649)\n",
      "\n",
      "Train Epoch: 40 [0/640000 (0%)]\tLoss: 0.216947\n",
      "Train Epoch: 40 [100000/640000 (16%)]\tLoss: 0.160869\n",
      "Train Epoch: 40 [200000/640000 (31%)]\tLoss: 0.175933\n",
      "Train Epoch: 40 [300000/640000 (47%)]\tLoss: 0.164797\n",
      "Train Epoch: 40 [400000/640000 (62%)]\tLoss: 0.172974\n",
      "Train Epoch: 40 [500000/640000 (78%)]\tLoss: 0.207159\n",
      "Train Epoch: 40 [600000/640000 (94%)]\tLoss: 0.205302\n"
     ]
    },
    {
     "name": "stderr",
     "output_type": "stream",
     "text": [
      " 57%|██████████████████████████████████████████████▊                                   | 40/70 [06:40<05:08, 10.27s/it]"
     ]
    },
    {
     "name": "stdout",
     "output_type": "stream",
     "text": [
      "\n",
      "Validation set: Average loss: 0.1803, AUROC: (87.7649)\n",
      "\n",
      "Train Epoch: 41 [0/640000 (0%)]\tLoss: 0.182071\n",
      "Train Epoch: 41 [100000/640000 (16%)]\tLoss: 0.187245\n",
      "Train Epoch: 41 [200000/640000 (31%)]\tLoss: 0.214086\n",
      "Train Epoch: 41 [300000/640000 (47%)]\tLoss: 0.192788\n",
      "Train Epoch: 41 [400000/640000 (62%)]\tLoss: 0.190673\n",
      "Train Epoch: 41 [500000/640000 (78%)]\tLoss: 0.195474\n",
      "Train Epoch: 41 [600000/640000 (94%)]\tLoss: 0.215417\n"
     ]
    },
    {
     "name": "stderr",
     "output_type": "stream",
     "text": [
      " 59%|████████████████████████████████████████████████                                  | 41/70 [06:51<05:11, 10.74s/it]"
     ]
    },
    {
     "name": "stdout",
     "output_type": "stream",
     "text": [
      "\n",
      "Validation set: Average loss: 0.1758, AUROC: (88.5383)\n",
      "\n",
      "Train Epoch: 42 [0/640000 (0%)]\tLoss: 0.163151\n",
      "Train Epoch: 42 [100000/640000 (16%)]\tLoss: 0.168186\n",
      "Train Epoch: 42 [200000/640000 (31%)]\tLoss: 0.194870\n",
      "Train Epoch: 42 [300000/640000 (47%)]\tLoss: 0.159010\n",
      "Train Epoch: 42 [400000/640000 (62%)]\tLoss: 0.179147\n",
      "Train Epoch: 42 [500000/640000 (78%)]\tLoss: 0.173816\n",
      "Train Epoch: 42 [600000/640000 (94%)]\tLoss: 0.186831\n"
     ]
    },
    {
     "name": "stderr",
     "output_type": "stream",
     "text": [
      " 60%|█████████████████████████████████████████████████▏                                | 42/70 [07:03<05:09, 11.06s/it]"
     ]
    },
    {
     "name": "stdout",
     "output_type": "stream",
     "text": [
      "\n",
      "Validation set: Average loss: 0.1765, AUROC: (88.5660)\n",
      "\n",
      "Train Epoch: 43 [0/640000 (0%)]\tLoss: 0.232327\n",
      "Train Epoch: 43 [100000/640000 (16%)]\tLoss: 0.161992\n",
      "Train Epoch: 43 [200000/640000 (31%)]\tLoss: 0.202646\n",
      "Train Epoch: 43 [300000/640000 (47%)]\tLoss: 0.168928\n",
      "Train Epoch: 43 [400000/640000 (62%)]\tLoss: 0.156181\n",
      "Train Epoch: 43 [500000/640000 (78%)]\tLoss: 0.194093\n",
      "Train Epoch: 43 [600000/640000 (94%)]\tLoss: 0.187323\n"
     ]
    },
    {
     "name": "stderr",
     "output_type": "stream",
     "text": [
      " 61%|██████████████████████████████████████████████████▎                               | 43/70 [07:15<05:01, 11.18s/it]"
     ]
    },
    {
     "name": "stdout",
     "output_type": "stream",
     "text": [
      "\n",
      "Validation set: Average loss: 0.1754, AUROC: (88.7164)\n",
      "\n",
      "Train Epoch: 44 [0/640000 (0%)]\tLoss: 0.161270\n",
      "Train Epoch: 44 [100000/640000 (16%)]\tLoss: 0.161117\n",
      "Train Epoch: 44 [200000/640000 (31%)]\tLoss: 0.179941\n",
      "Train Epoch: 44 [300000/640000 (47%)]\tLoss: 0.177298\n",
      "Train Epoch: 44 [400000/640000 (62%)]\tLoss: 0.155023\n",
      "Train Epoch: 44 [500000/640000 (78%)]\tLoss: 0.169881\n",
      "Train Epoch: 44 [600000/640000 (94%)]\tLoss: 0.163232\n"
     ]
    },
    {
     "name": "stderr",
     "output_type": "stream",
     "text": [
      " 63%|███████████████████████████████████████████████████▌                              | 44/70 [07:27<04:56, 11.39s/it]"
     ]
    },
    {
     "name": "stdout",
     "output_type": "stream",
     "text": [
      "\n",
      "Validation set: Average loss: 0.1767, AUROC: (89.2271)\n",
      "\n",
      "Train Epoch: 45 [0/640000 (0%)]\tLoss: 0.168983\n",
      "Train Epoch: 45 [100000/640000 (16%)]\tLoss: 0.185422\n",
      "Train Epoch: 45 [200000/640000 (31%)]\tLoss: 0.194463\n",
      "Train Epoch: 45 [300000/640000 (47%)]\tLoss: 0.176026\n",
      "Train Epoch: 45 [400000/640000 (62%)]\tLoss: 0.117407\n",
      "Train Epoch: 45 [500000/640000 (78%)]\tLoss: 0.200227\n",
      "Train Epoch: 45 [600000/640000 (94%)]\tLoss: 0.175938\n"
     ]
    },
    {
     "name": "stderr",
     "output_type": "stream",
     "text": [
      " 64%|████████████████████████████████████████████████████▋                             | 45/70 [07:36<04:29, 10.76s/it]"
     ]
    },
    {
     "name": "stdout",
     "output_type": "stream",
     "text": [
      "\n",
      "Validation set: Average loss: 0.1758, AUROC: (89.0695)\n",
      "\n",
      "Train Epoch: 46 [0/640000 (0%)]\tLoss: 0.168448\n",
      "Train Epoch: 46 [100000/640000 (16%)]\tLoss: 0.189245\n",
      "Train Epoch: 46 [200000/640000 (31%)]\tLoss: 0.160265\n",
      "Train Epoch: 46 [300000/640000 (47%)]\tLoss: 0.184465\n",
      "Train Epoch: 46 [400000/640000 (62%)]\tLoss: 0.149657\n",
      "Train Epoch: 46 [500000/640000 (78%)]\tLoss: 0.166899\n",
      "Train Epoch: 46 [600000/640000 (94%)]\tLoss: 0.208239\n"
     ]
    },
    {
     "name": "stderr",
     "output_type": "stream",
     "text": [
      " 66%|█████████████████████████████████████████████████████▉                            | 46/70 [07:45<04:05, 10.24s/it]"
     ]
    },
    {
     "name": "stdout",
     "output_type": "stream",
     "text": [
      "\n",
      "Validation set: Average loss: 0.1759, AUROC: (88.8331)\n",
      "\n",
      "Train Epoch: 47 [0/640000 (0%)]\tLoss: 0.183830\n",
      "Train Epoch: 47 [100000/640000 (16%)]\tLoss: 0.183564\n",
      "Train Epoch: 47 [200000/640000 (31%)]\tLoss: 0.196218\n",
      "Train Epoch: 47 [300000/640000 (47%)]\tLoss: 0.178804\n",
      "Train Epoch: 47 [400000/640000 (62%)]\tLoss: 0.187272\n",
      "Train Epoch: 47 [500000/640000 (78%)]\tLoss: 0.212758\n",
      "Train Epoch: 47 [600000/640000 (94%)]\tLoss: 0.185389\n"
     ]
    },
    {
     "name": "stderr",
     "output_type": "stream",
     "text": [
      " 67%|███████████████████████████████████████████████████████                           | 47/70 [07:55<03:51, 10.06s/it]"
     ]
    },
    {
     "name": "stdout",
     "output_type": "stream",
     "text": [
      "\n",
      "Validation set: Average loss: 0.1772, AUROC: (88.2406)\n",
      "\n",
      "Train Epoch: 48 [0/640000 (0%)]\tLoss: 0.193474\n",
      "Train Epoch: 48 [100000/640000 (16%)]\tLoss: 0.191156\n",
      "Train Epoch: 48 [200000/640000 (31%)]\tLoss: 0.171683\n",
      "Train Epoch: 48 [300000/640000 (47%)]\tLoss: 0.176034\n",
      "Train Epoch: 48 [400000/640000 (62%)]\tLoss: 0.161145\n",
      "Train Epoch: 48 [500000/640000 (78%)]\tLoss: 0.183467\n",
      "Train Epoch: 48 [600000/640000 (94%)]\tLoss: 0.194284\n"
     ]
    },
    {
     "name": "stderr",
     "output_type": "stream",
     "text": [
      " 69%|████████████████████████████████████████████████████████▏                         | 48/70 [08:04<03:39,  9.97s/it]"
     ]
    },
    {
     "name": "stdout",
     "output_type": "stream",
     "text": [
      "\n",
      "Validation set: Average loss: 0.1766, AUROC: (88.6317)\n",
      "\n",
      "Train Epoch: 49 [0/640000 (0%)]\tLoss: 0.219038\n",
      "Train Epoch: 49 [100000/640000 (16%)]\tLoss: 0.145994\n",
      "Train Epoch: 49 [200000/640000 (31%)]\tLoss: 0.204220\n",
      "Train Epoch: 49 [300000/640000 (47%)]\tLoss: 0.164346\n",
      "Train Epoch: 49 [400000/640000 (62%)]\tLoss: 0.157634\n",
      "Train Epoch: 49 [500000/640000 (78%)]\tLoss: 0.175424\n",
      "Train Epoch: 49 [600000/640000 (94%)]\tLoss: 0.205254\n"
     ]
    },
    {
     "name": "stderr",
     "output_type": "stream",
     "text": [
      " 70%|█████████████████████████████████████████████████████████▍                        | 49/70 [08:14<03:26,  9.81s/it]"
     ]
    },
    {
     "name": "stdout",
     "output_type": "stream",
     "text": [
      "\n",
      "Validation set: Average loss: 0.1756, AUROC: (89.3103)\n",
      "\n",
      "Train Epoch: 50 [0/640000 (0%)]\tLoss: 0.170940\n",
      "Train Epoch: 50 [100000/640000 (16%)]\tLoss: 0.185654\n",
      "Train Epoch: 50 [200000/640000 (31%)]\tLoss: 0.212312\n",
      "Train Epoch: 50 [300000/640000 (47%)]\tLoss: 0.205840\n",
      "Train Epoch: 50 [400000/640000 (62%)]\tLoss: 0.169252\n",
      "Train Epoch: 50 [500000/640000 (78%)]\tLoss: 0.184706\n",
      "Train Epoch: 50 [600000/640000 (94%)]\tLoss: 0.211625\n"
     ]
    },
    {
     "name": "stderr",
     "output_type": "stream",
     "text": [
      " 71%|██████████████████████████████████████████████████████████▌                       | 50/70 [08:23<03:12,  9.60s/it]"
     ]
    },
    {
     "name": "stdout",
     "output_type": "stream",
     "text": [
      "\n",
      "Validation set: Average loss: 0.1757, AUROC: (88.5996)\n",
      "\n",
      "Train Epoch: 51 [0/640000 (0%)]\tLoss: 0.164908\n",
      "Train Epoch: 51 [100000/640000 (16%)]\tLoss: 0.151820\n",
      "Train Epoch: 51 [200000/640000 (31%)]\tLoss: 0.182463\n",
      "Train Epoch: 51 [300000/640000 (47%)]\tLoss: 0.149492\n",
      "Train Epoch: 51 [400000/640000 (62%)]\tLoss: 0.162665\n",
      "Train Epoch: 51 [500000/640000 (78%)]\tLoss: 0.183577\n",
      "Train Epoch: 51 [600000/640000 (94%)]\tLoss: 0.159362\n"
     ]
    },
    {
     "name": "stderr",
     "output_type": "stream",
     "text": [
      " 73%|███████████████████████████████████████████████████████████▋                      | 51/70 [08:32<03:01,  9.56s/it]"
     ]
    },
    {
     "name": "stdout",
     "output_type": "stream",
     "text": [
      "\n",
      "Validation set: Average loss: 0.1757, AUROC: (88.9484)\n",
      "\n",
      "Train Epoch: 52 [0/640000 (0%)]\tLoss: 0.142409\n",
      "Train Epoch: 52 [100000/640000 (16%)]\tLoss: 0.202697\n",
      "Train Epoch: 52 [200000/640000 (31%)]\tLoss: 0.156167\n",
      "Train Epoch: 52 [300000/640000 (47%)]\tLoss: 0.202169\n",
      "Train Epoch: 52 [400000/640000 (62%)]\tLoss: 0.192556\n",
      "Train Epoch: 52 [500000/640000 (78%)]\tLoss: 0.213494\n",
      "Train Epoch: 52 [600000/640000 (94%)]\tLoss: 0.166804\n"
     ]
    },
    {
     "name": "stderr",
     "output_type": "stream",
     "text": [
      " 74%|████████████████████████████████████████████████████████████▉                     | 52/70 [08:42<02:51,  9.53s/it]"
     ]
    },
    {
     "name": "stdout",
     "output_type": "stream",
     "text": [
      "\n",
      "Validation set: Average loss: 0.1756, AUROC: (88.8360)\n",
      "\n",
      "Train Epoch: 53 [0/640000 (0%)]\tLoss: 0.166417\n",
      "Train Epoch: 53 [100000/640000 (16%)]\tLoss: 0.164876\n",
      "Train Epoch: 53 [200000/640000 (31%)]\tLoss: 0.187083\n",
      "Train Epoch: 53 [300000/640000 (47%)]\tLoss: 0.149887\n",
      "Train Epoch: 53 [400000/640000 (62%)]\tLoss: 0.168271\n",
      "Train Epoch: 53 [500000/640000 (78%)]\tLoss: 0.192245\n",
      "Train Epoch: 53 [600000/640000 (94%)]\tLoss: 0.159430\n"
     ]
    },
    {
     "name": "stderr",
     "output_type": "stream",
     "text": [
      " 76%|██████████████████████████████████████████████████████████████                    | 53/70 [08:51<02:39,  9.39s/it]"
     ]
    },
    {
     "name": "stdout",
     "output_type": "stream",
     "text": [
      "\n",
      "Validation set: Average loss: 0.1752, AUROC: (89.2082)\n",
      "\n",
      "Train Epoch: 54 [0/640000 (0%)]\tLoss: 0.168689\n",
      "Train Epoch: 54 [100000/640000 (16%)]\tLoss: 0.161444\n",
      "Train Epoch: 54 [200000/640000 (31%)]\tLoss: 0.217122\n",
      "Train Epoch: 54 [300000/640000 (47%)]\tLoss: 0.196617\n",
      "Train Epoch: 54 [400000/640000 (62%)]\tLoss: 0.156363\n",
      "Train Epoch: 54 [500000/640000 (78%)]\tLoss: 0.161178\n",
      "Train Epoch: 54 [600000/640000 (94%)]\tLoss: 0.159149\n"
     ]
    },
    {
     "name": "stderr",
     "output_type": "stream",
     "text": [
      " 77%|███████████████████████████████████████████████████████████████▎                  | 54/70 [09:00<02:30,  9.41s/it]"
     ]
    },
    {
     "name": "stdout",
     "output_type": "stream",
     "text": [
      "\n",
      "Validation set: Average loss: 0.1757, AUROC: (88.8652)\n",
      "\n",
      "Train Epoch: 55 [0/640000 (0%)]\tLoss: 0.154085\n",
      "Train Epoch: 55 [100000/640000 (16%)]\tLoss: 0.173856\n",
      "Train Epoch: 55 [200000/640000 (31%)]\tLoss: 0.172145\n",
      "Train Epoch: 55 [300000/640000 (47%)]\tLoss: 0.180844\n",
      "Train Epoch: 55 [400000/640000 (62%)]\tLoss: 0.193201\n",
      "Train Epoch: 55 [500000/640000 (78%)]\tLoss: 0.189858\n",
      "Train Epoch: 55 [600000/640000 (94%)]\tLoss: 0.178366\n"
     ]
    },
    {
     "name": "stderr",
     "output_type": "stream",
     "text": [
      " 79%|████████████████████████████████████████████████████████████████▍                 | 55/70 [09:10<02:21,  9.42s/it]"
     ]
    },
    {
     "name": "stdout",
     "output_type": "stream",
     "text": [
      "\n",
      "Validation set: Average loss: 0.1759, AUROC: (89.7116)\n",
      "\n",
      "Train Epoch: 56 [0/640000 (0%)]\tLoss: 0.178377\n",
      "Train Epoch: 56 [100000/640000 (16%)]\tLoss: 0.185967\n",
      "Train Epoch: 56 [200000/640000 (31%)]\tLoss: 0.159013\n",
      "Train Epoch: 56 [300000/640000 (47%)]\tLoss: 0.201304\n",
      "Train Epoch: 56 [400000/640000 (62%)]\tLoss: 0.178133\n",
      "Train Epoch: 56 [500000/640000 (78%)]\tLoss: 0.198164\n",
      "Train Epoch: 56 [600000/640000 (94%)]\tLoss: 0.149442\n"
     ]
    },
    {
     "name": "stderr",
     "output_type": "stream",
     "text": [
      " 80%|█████████████████████████████████████████████████████████████████▌                | 56/70 [09:19<02:10,  9.33s/it]"
     ]
    },
    {
     "name": "stdout",
     "output_type": "stream",
     "text": [
      "\n",
      "Validation set: Average loss: 0.1755, AUROC: (88.6171)\n",
      "\n",
      "Train Epoch: 57 [0/640000 (0%)]\tLoss: 0.176929\n",
      "Train Epoch: 57 [100000/640000 (16%)]\tLoss: 0.162852\n",
      "Train Epoch: 57 [200000/640000 (31%)]\tLoss: 0.217239\n",
      "Train Epoch: 57 [300000/640000 (47%)]\tLoss: 0.162773\n",
      "Train Epoch: 57 [400000/640000 (62%)]\tLoss: 0.200325\n",
      "Train Epoch: 57 [500000/640000 (78%)]\tLoss: 0.170215\n",
      "Train Epoch: 57 [600000/640000 (94%)]\tLoss: 0.153840\n"
     ]
    },
    {
     "name": "stderr",
     "output_type": "stream",
     "text": [
      " 81%|██████████████████████████████████████████████████████████████████▊               | 57/70 [09:28<02:02,  9.40s/it]"
     ]
    },
    {
     "name": "stdout",
     "output_type": "stream",
     "text": [
      "\n",
      "Validation set: Average loss: 0.1758, AUROC: (88.8973)\n",
      "\n",
      "Train Epoch: 58 [0/640000 (0%)]\tLoss: 0.178801\n",
      "Train Epoch: 58 [100000/640000 (16%)]\tLoss: 0.160535\n",
      "Train Epoch: 58 [200000/640000 (31%)]\tLoss: 0.163621\n",
      "Train Epoch: 58 [300000/640000 (47%)]\tLoss: 0.207114\n",
      "Train Epoch: 58 [400000/640000 (62%)]\tLoss: 0.180482\n",
      "Train Epoch: 58 [500000/640000 (78%)]\tLoss: 0.199287\n",
      "Train Epoch: 58 [600000/640000 (94%)]\tLoss: 0.163049\n"
     ]
    },
    {
     "name": "stderr",
     "output_type": "stream",
     "text": [
      " 83%|███████████████████████████████████████████████████████████████████▉              | 58/70 [09:38<01:51,  9.32s/it]"
     ]
    },
    {
     "name": "stdout",
     "output_type": "stream",
     "text": [
      "\n",
      "Validation set: Average loss: 0.1749, AUROC: (89.4066)\n",
      "\n",
      "Train Epoch: 59 [0/640000 (0%)]\tLoss: 0.178183\n",
      "Train Epoch: 59 [100000/640000 (16%)]\tLoss: 0.155085\n",
      "Train Epoch: 59 [200000/640000 (31%)]\tLoss: 0.193927\n",
      "Train Epoch: 59 [300000/640000 (47%)]\tLoss: 0.174925\n",
      "Train Epoch: 59 [400000/640000 (62%)]\tLoss: 0.181556\n",
      "Train Epoch: 59 [500000/640000 (78%)]\tLoss: 0.155612\n",
      "Train Epoch: 59 [600000/640000 (94%)]\tLoss: 0.185390\n"
     ]
    },
    {
     "name": "stderr",
     "output_type": "stream",
     "text": [
      " 84%|█████████████████████████████████████████████████████████████████████             | 59/70 [09:47<01:43,  9.39s/it]"
     ]
    },
    {
     "name": "stdout",
     "output_type": "stream",
     "text": [
      "\n",
      "Validation set: Average loss: 0.1769, AUROC: (88.6215)\n",
      "\n",
      "Train Epoch: 60 [0/640000 (0%)]\tLoss: 0.162413\n",
      "Train Epoch: 60 [100000/640000 (16%)]\tLoss: 0.160943\n",
      "Train Epoch: 60 [200000/640000 (31%)]\tLoss: 0.162819\n",
      "Train Epoch: 60 [300000/640000 (47%)]\tLoss: 0.190749\n",
      "Train Epoch: 60 [400000/640000 (62%)]\tLoss: 0.197936\n",
      "Train Epoch: 60 [500000/640000 (78%)]\tLoss: 0.174153\n",
      "Train Epoch: 60 [600000/640000 (94%)]\tLoss: 0.164152\n"
     ]
    },
    {
     "name": "stderr",
     "output_type": "stream",
     "text": [
      " 86%|██████████████████████████████████████████████████████████████████████▎           | 60/70 [09:57<01:36,  9.63s/it]"
     ]
    },
    {
     "name": "stdout",
     "output_type": "stream",
     "text": [
      "\n",
      "Validation set: Average loss: 0.1754, AUROC: (88.7660)\n",
      "\n",
      "Train Epoch: 61 [0/640000 (0%)]\tLoss: 0.181567\n",
      "Train Epoch: 61 [100000/640000 (16%)]\tLoss: 0.184666\n",
      "Train Epoch: 61 [200000/640000 (31%)]\tLoss: 0.180149\n",
      "Train Epoch: 61 [300000/640000 (47%)]\tLoss: 0.150826\n",
      "Train Epoch: 61 [400000/640000 (62%)]\tLoss: 0.190230\n",
      "Train Epoch: 61 [500000/640000 (78%)]\tLoss: 0.193746\n",
      "Train Epoch: 61 [600000/640000 (94%)]\tLoss: 0.171256\n"
     ]
    },
    {
     "name": "stderr",
     "output_type": "stream",
     "text": [
      " 87%|███████████████████████████████████████████████████████████████████████▍          | 61/70 [10:07<01:27,  9.70s/it]"
     ]
    },
    {
     "name": "stdout",
     "output_type": "stream",
     "text": [
      "\n",
      "Validation set: Average loss: 0.1749, AUROC: (89.1600)\n",
      "\n",
      "Train Epoch: 62 [0/640000 (0%)]\tLoss: 0.184032\n",
      "Train Epoch: 62 [100000/640000 (16%)]\tLoss: 0.151658\n",
      "Train Epoch: 62 [200000/640000 (31%)]\tLoss: 0.219268\n",
      "Train Epoch: 62 [300000/640000 (47%)]\tLoss: 0.184512\n",
      "Train Epoch: 62 [400000/640000 (62%)]\tLoss: 0.153334\n",
      "Train Epoch: 62 [500000/640000 (78%)]\tLoss: 0.158872\n",
      "Train Epoch: 62 [600000/640000 (94%)]\tLoss: 0.186526\n"
     ]
    },
    {
     "name": "stderr",
     "output_type": "stream",
     "text": [
      " 89%|████████████████████████████████████████████████████████████████████████▋         | 62/70 [10:18<01:20, 10.08s/it]"
     ]
    },
    {
     "name": "stdout",
     "output_type": "stream",
     "text": [
      "\n",
      "Validation set: Average loss: 0.1749, AUROC: (89.0724)\n",
      "\n",
      "Train Epoch: 63 [0/640000 (0%)]\tLoss: 0.165524\n",
      "Train Epoch: 63 [100000/640000 (16%)]\tLoss: 0.171167\n",
      "Train Epoch: 63 [200000/640000 (31%)]\tLoss: 0.199882\n",
      "Train Epoch: 63 [300000/640000 (47%)]\tLoss: 0.173202\n",
      "Train Epoch: 63 [400000/640000 (62%)]\tLoss: 0.185885\n",
      "Train Epoch: 63 [500000/640000 (78%)]\tLoss: 0.177477\n",
      "Train Epoch: 63 [600000/640000 (94%)]\tLoss: 0.181741\n"
     ]
    },
    {
     "name": "stderr",
     "output_type": "stream",
     "text": [
      " 90%|█████████████████████████████████████████████████████████████████████████▊        | 63/70 [10:30<01:13, 10.46s/it]"
     ]
    },
    {
     "name": "stdout",
     "output_type": "stream",
     "text": [
      "\n",
      "Validation set: Average loss: 0.1749, AUROC: (89.0870)\n",
      "\n",
      "Train Epoch: 64 [0/640000 (0%)]\tLoss: 0.192575\n",
      "Train Epoch: 64 [100000/640000 (16%)]\tLoss: 0.184486\n",
      "Train Epoch: 64 [200000/640000 (31%)]\tLoss: 0.160457\n",
      "Train Epoch: 64 [300000/640000 (47%)]\tLoss: 0.204962\n",
      "Train Epoch: 64 [400000/640000 (62%)]\tLoss: 0.179881\n",
      "Train Epoch: 64 [500000/640000 (78%)]\tLoss: 0.144814\n",
      "Train Epoch: 64 [600000/640000 (94%)]\tLoss: 0.178516\n"
     ]
    },
    {
     "name": "stderr",
     "output_type": "stream",
     "text": [
      " 91%|██████████████████████████████████████████████████████████████████████████▉       | 64/70 [10:40<01:02, 10.38s/it]"
     ]
    },
    {
     "name": "stdout",
     "output_type": "stream",
     "text": [
      "\n",
      "Validation set: Average loss: 0.1758, AUROC: (88.7689)\n",
      "\n",
      "Train Epoch: 65 [0/640000 (0%)]\tLoss: 0.162998\n",
      "Train Epoch: 65 [100000/640000 (16%)]\tLoss: 0.184523\n",
      "Train Epoch: 65 [200000/640000 (31%)]\tLoss: 0.184898\n",
      "Train Epoch: 65 [300000/640000 (47%)]\tLoss: 0.166409\n",
      "Train Epoch: 65 [400000/640000 (62%)]\tLoss: 0.167279\n",
      "Train Epoch: 65 [500000/640000 (78%)]\tLoss: 0.162149\n",
      "Train Epoch: 65 [600000/640000 (94%)]\tLoss: 0.167220\n"
     ]
    },
    {
     "name": "stderr",
     "output_type": "stream",
     "text": [
      " 93%|████████████████████████████████████████████████████████████████████████████▏     | 65/70 [10:49<00:50, 10.11s/it]"
     ]
    },
    {
     "name": "stdout",
     "output_type": "stream",
     "text": [
      "\n",
      "Validation set: Average loss: 0.1749, AUROC: (89.5467)\n",
      "\n",
      "Train Epoch: 66 [0/640000 (0%)]\tLoss: 0.179015\n",
      "Train Epoch: 66 [100000/640000 (16%)]\tLoss: 0.177679\n",
      "Train Epoch: 66 [200000/640000 (31%)]\tLoss: 0.166711\n",
      "Train Epoch: 66 [300000/640000 (47%)]\tLoss: 0.182213\n",
      "Train Epoch: 66 [400000/640000 (62%)]\tLoss: 0.147346\n",
      "Train Epoch: 66 [500000/640000 (78%)]\tLoss: 0.214409\n",
      "Train Epoch: 66 [600000/640000 (94%)]\tLoss: 0.183599\n"
     ]
    },
    {
     "name": "stderr",
     "output_type": "stream",
     "text": [
      " 94%|█████████████████████████████████████████████████████████████████████████████▎    | 66/70 [10:58<00:39,  9.84s/it]"
     ]
    },
    {
     "name": "stdout",
     "output_type": "stream",
     "text": [
      "\n",
      "Validation set: Average loss: 0.1745, AUROC: (89.2140)\n",
      "\n",
      "Train Epoch: 67 [0/640000 (0%)]\tLoss: 0.192308\n",
      "Train Epoch: 67 [100000/640000 (16%)]\tLoss: 0.165281\n",
      "Train Epoch: 67 [200000/640000 (31%)]\tLoss: 0.167472\n",
      "Train Epoch: 67 [300000/640000 (47%)]\tLoss: 0.192769\n",
      "Train Epoch: 67 [400000/640000 (62%)]\tLoss: 0.188955\n",
      "Train Epoch: 67 [500000/640000 (78%)]\tLoss: 0.176326\n",
      "Train Epoch: 67 [600000/640000 (94%)]\tLoss: 0.187600\n"
     ]
    },
    {
     "name": "stderr",
     "output_type": "stream",
     "text": [
      " 96%|██████████████████████████████████████████████████████████████████████████████▍   | 67/70 [11:09<00:30, 10.21s/it]"
     ]
    },
    {
     "name": "stdout",
     "output_type": "stream",
     "text": [
      "\n",
      "Validation set: Average loss: 0.1749, AUROC: (89.3585)\n",
      "\n",
      "Train Epoch: 68 [0/640000 (0%)]\tLoss: 0.165221\n",
      "Train Epoch: 68 [100000/640000 (16%)]\tLoss: 0.145663\n",
      "Train Epoch: 68 [200000/640000 (31%)]\tLoss: 0.154607\n",
      "Train Epoch: 68 [300000/640000 (47%)]\tLoss: 0.164141\n",
      "Train Epoch: 68 [400000/640000 (62%)]\tLoss: 0.157036\n",
      "Train Epoch: 68 [500000/640000 (78%)]\tLoss: 0.173909\n",
      "Train Epoch: 68 [600000/640000 (94%)]\tLoss: 0.172362\n"
     ]
    },
    {
     "name": "stderr",
     "output_type": "stream",
     "text": [
      " 97%|███████████████████████████████████████████████████████████████████████████████▋  | 68/70 [11:20<00:20, 10.24s/it]"
     ]
    },
    {
     "name": "stdout",
     "output_type": "stream",
     "text": [
      "\n",
      "Validation set: Average loss: 0.1751, AUROC: (89.2972)\n",
      "\n",
      "Train Epoch: 69 [0/640000 (0%)]\tLoss: 0.168074\n",
      "Train Epoch: 69 [100000/640000 (16%)]\tLoss: 0.202115\n",
      "Train Epoch: 69 [200000/640000 (31%)]\tLoss: 0.160249\n",
      "Train Epoch: 69 [300000/640000 (47%)]\tLoss: 0.178987\n",
      "Train Epoch: 69 [400000/640000 (62%)]\tLoss: 0.170645\n",
      "Train Epoch: 69 [500000/640000 (78%)]\tLoss: 0.149890\n",
      "Train Epoch: 69 [600000/640000 (94%)]\tLoss: 0.185548\n"
     ]
    },
    {
     "name": "stderr",
     "output_type": "stream",
     "text": [
      " 99%|████████████████████████████████████████████████████████████████████████████████▊ | 69/70 [11:30<00:10, 10.30s/it]"
     ]
    },
    {
     "name": "stdout",
     "output_type": "stream",
     "text": [
      "\n",
      "Validation set: Average loss: 0.1749, AUROC: (89.2417)\n",
      "\n",
      "Train Epoch: 70 [0/640000 (0%)]\tLoss: 0.172110\n",
      "Train Epoch: 70 [100000/640000 (16%)]\tLoss: 0.166112\n",
      "Train Epoch: 70 [200000/640000 (31%)]\tLoss: 0.158800\n",
      "Train Epoch: 70 [300000/640000 (47%)]\tLoss: 0.165873\n",
      "Train Epoch: 70 [400000/640000 (62%)]\tLoss: 0.181979\n",
      "Train Epoch: 70 [500000/640000 (78%)]\tLoss: 0.168018\n",
      "Train Epoch: 70 [600000/640000 (94%)]\tLoss: 0.170206\n"
     ]
    },
    {
     "name": "stderr",
     "output_type": "stream",
     "text": [
      "100%|██████████████████████████████████████████████████████████████████████████████████| 70/70 [11:41<00:00, 10.01s/it]"
     ]
    },
    {
     "name": "stdout",
     "output_type": "stream",
     "text": [
      "\n",
      "Validation set: Average loss: 0.1750, AUROC: (88.5179)\n",
      "\n"
     ]
    },
    {
     "name": "stderr",
     "output_type": "stream",
     "text": [
      "\n"
     ]
    }
   ],
   "source": [
    "for epoch in tqdm(range(epochs)):\n",
    "\n",
    "    ### PLEASE WRITE YOUR CODE BELOW.\n",
    "    \n",
    "    # Train your model with train dataloader\n",
    "\n",
    "    train_loss =  train(model, optimizer, criterion, train_loader, epoch)\n",
    "\n",
    "    # Validate your model with validation dataloader\n",
    "\n",
    "    validation_accuracy = validate(model, criterion, valid_loader)\n",
    "\n",
    "    ### END OF THE CODE."
   ]
  },
  {
   "cell_type": "code",
   "execution_count": 94,
   "id": "def6a8e8-cfa4-4f88-a304-82c56fa419f3",
   "metadata": {
    "tags": []
   },
   "outputs": [
    {
     "name": "stdout",
     "output_type": "stream",
     "text": [
      "\n",
      " Test set:  AUROC: (88.8667)\n",
      "\n"
     ]
    }
   ],
   "source": [
    "test_prepro, target = test(model, test_loader)"
   ]
  },
  {
   "cell_type": "code",
   "execution_count": 83,
   "id": "c353859f-44a4-49f9-bd2b-1a1d05b50c12",
   "metadata": {},
   "outputs": [],
   "source": [
    "y_reset = y_test.reset_index().drop(columns=['index'])"
   ]
  },
  {
   "cell_type": "code",
   "execution_count": 84,
   "id": "2b8b0e39-4199-4778-a3d0-a4b4f76530f5",
   "metadata": {},
   "outputs": [],
   "source": [
    "target = pd.DataFrame(target)"
   ]
  },
  {
   "cell_type": "code",
   "execution_count": 129,
   "id": "36aa8a9d-4332-478d-bd5a-6b7b9f910062",
   "metadata": {},
   "outputs": [],
   "source": [
    "pd.DataFrame(exam(model, test_loader), columns=['task1']).to_csv('submission_task1.csv')"
   ]
  },
  {
   "cell_type": "code",
   "execution_count": null,
   "id": "c1fd34f3-92d6-4d29-86a5-4629c5f3e467",
   "metadata": {},
   "outputs": [],
   "source": []
  }
 ],
 "metadata": {
  "kernelspec": {
   "display_name": "Python 3",
   "language": "python",
   "name": "python3"
  },
  "language_info": {
   "codemirror_mode": {
    "name": "ipython",
    "version": 3
   },
   "file_extension": ".py",
   "mimetype": "text/x-python",
   "name": "python",
   "nbconvert_exporter": "python",
   "pygments_lexer": "ipython3",
   "version": "3.8.8"
  }
 },
 "nbformat": 4,
 "nbformat_minor": 5
}
